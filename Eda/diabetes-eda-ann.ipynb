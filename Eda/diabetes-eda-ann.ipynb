{
 "cells": [
  {
   "cell_type": "code",
   "execution_count": 60,
   "metadata": {},
   "outputs": [
    {
     "name": "stdout",
     "output_type": "stream",
     "text": [
      "Requirement already satisfied: plotly in /home/chriferob/desarrollo/dev_iaml/ml_env/lib/python3.8/site-packages (5.11.0)\n",
      "Requirement already satisfied: tenacity>=6.2.0 in /home/chriferob/desarrollo/dev_iaml/ml_env/lib/python3.8/site-packages (from plotly) (8.1.0)\n",
      "\u001b[33mWARNING: You are using pip version 21.3.1; however, version 22.3 is available.\n",
      "You should consider upgrading via the '/home/chriferob/desarrollo/dev_iaml/ml_env/bin/python -m pip install --upgrade pip' command.\u001b[0m\n"
     ]
    }
   ],
   "source": [
    "!pip install plotly"
   ]
  },
  {
   "cell_type": "code",
   "execution_count": 61,
   "metadata": {
    "execution": {
     "iopub.execute_input": "2022-10-29T15:50:58.437005Z",
     "iopub.status.busy": "2022-10-29T15:50:58.436651Z",
     "iopub.status.idle": "2022-10-29T15:50:58.441775Z",
     "shell.execute_reply": "2022-10-29T15:50:58.440781Z",
     "shell.execute_reply.started": "2022-10-29T15:50:58.436974Z"
    },
    "id": "diJjqfsa-3oP"
   },
   "outputs": [],
   "source": [
    "import pandas as pd \n",
    "import numpy as np\n",
    "import matplotlib.pyplot as plt\n",
    "import seaborn as sns \n",
    "import plotly.express as px\n"
   ]
  },
  {
   "cell_type": "markdown",
   "metadata": {
    "id": "Ik94wBJqAMeX"
   },
   "source": [
    "### First look"
   ]
  },
  {
   "cell_type": "code",
   "execution_count": 62,
   "metadata": {
    "execution": {
     "iopub.execute_input": "2022-10-29T15:51:01.419105Z",
     "iopub.status.busy": "2022-10-29T15:51:01.418525Z",
     "iopub.status.idle": "2022-10-29T15:51:01.461006Z",
     "shell.execute_reply": "2022-10-29T15:51:01.459462Z",
     "shell.execute_reply.started": "2022-10-29T15:51:01.419070Z"
    },
    "id": "-fDS0lm9tAhS",
    "outputId": "15756487-33aa-4c4c-b20e-80ebc4e6c7c9"
   },
   "outputs": [
    {
     "data": {
      "text/html": [
       "<div>\n",
       "<style scoped>\n",
       "    .dataframe tbody tr th:only-of-type {\n",
       "        vertical-align: middle;\n",
       "    }\n",
       "\n",
       "    .dataframe tbody tr th {\n",
       "        vertical-align: top;\n",
       "    }\n",
       "\n",
       "    .dataframe thead th {\n",
       "        text-align: right;\n",
       "    }\n",
       "</style>\n",
       "<table border=\"1\" class=\"dataframe\">\n",
       "  <thead>\n",
       "    <tr style=\"text-align: right;\">\n",
       "      <th></th>\n",
       "      <th>Pregnancies</th>\n",
       "      <th>Glucose</th>\n",
       "      <th>BloodPressure</th>\n",
       "      <th>SkinThickness</th>\n",
       "      <th>Insulin</th>\n",
       "      <th>BMI</th>\n",
       "      <th>DiabetesPedigreeFunction</th>\n",
       "      <th>Age</th>\n",
       "      <th>Outcome</th>\n",
       "    </tr>\n",
       "  </thead>\n",
       "  <tbody>\n",
       "    <tr>\n",
       "      <th>0</th>\n",
       "      <td>6</td>\n",
       "      <td>148</td>\n",
       "      <td>72</td>\n",
       "      <td>35</td>\n",
       "      <td>0</td>\n",
       "      <td>33.6</td>\n",
       "      <td>0.627</td>\n",
       "      <td>50</td>\n",
       "      <td>1</td>\n",
       "    </tr>\n",
       "    <tr>\n",
       "      <th>1</th>\n",
       "      <td>1</td>\n",
       "      <td>85</td>\n",
       "      <td>66</td>\n",
       "      <td>29</td>\n",
       "      <td>0</td>\n",
       "      <td>26.6</td>\n",
       "      <td>0.351</td>\n",
       "      <td>31</td>\n",
       "      <td>0</td>\n",
       "    </tr>\n",
       "    <tr>\n",
       "      <th>2</th>\n",
       "      <td>8</td>\n",
       "      <td>183</td>\n",
       "      <td>64</td>\n",
       "      <td>0</td>\n",
       "      <td>0</td>\n",
       "      <td>23.3</td>\n",
       "      <td>0.672</td>\n",
       "      <td>32</td>\n",
       "      <td>1</td>\n",
       "    </tr>\n",
       "    <tr>\n",
       "      <th>3</th>\n",
       "      <td>1</td>\n",
       "      <td>89</td>\n",
       "      <td>66</td>\n",
       "      <td>23</td>\n",
       "      <td>94</td>\n",
       "      <td>28.1</td>\n",
       "      <td>0.167</td>\n",
       "      <td>21</td>\n",
       "      <td>0</td>\n",
       "    </tr>\n",
       "    <tr>\n",
       "      <th>4</th>\n",
       "      <td>0</td>\n",
       "      <td>137</td>\n",
       "      <td>40</td>\n",
       "      <td>35</td>\n",
       "      <td>168</td>\n",
       "      <td>43.1</td>\n",
       "      <td>2.288</td>\n",
       "      <td>33</td>\n",
       "      <td>1</td>\n",
       "    </tr>\n",
       "  </tbody>\n",
       "</table>\n",
       "</div>"
      ],
      "text/plain": [
       "   Pregnancies  Glucose  BloodPressure  SkinThickness  Insulin   BMI  \\\n",
       "0            6      148             72             35        0  33.6   \n",
       "1            1       85             66             29        0  26.6   \n",
       "2            8      183             64              0        0  23.3   \n",
       "3            1       89             66             23       94  28.1   \n",
       "4            0      137             40             35      168  43.1   \n",
       "\n",
       "   DiabetesPedigreeFunction  Age  Outcome  \n",
       "0                     0.627   50        1  \n",
       "1                     0.351   31        0  \n",
       "2                     0.672   32        1  \n",
       "3                     0.167   21        0  \n",
       "4                     2.288   33        1  "
      ]
     },
     "execution_count": 62,
     "metadata": {},
     "output_type": "execute_result"
    }
   ],
   "source": [
    "data=pd.read_csv('input/diabetes.csv')\n",
    "data.head()"
   ]
  },
  {
   "cell_type": "code",
   "execution_count": 63,
   "metadata": {
    "execution": {
     "iopub.execute_input": "2022-10-29T15:51:11.121648Z",
     "iopub.status.busy": "2022-10-29T15:51:11.120645Z",
     "iopub.status.idle": "2022-10-29T15:51:11.129629Z",
     "shell.execute_reply": "2022-10-29T15:51:11.127324Z",
     "shell.execute_reply.started": "2022-10-29T15:51:11.121602Z"
    },
    "id": "iFf7vNwTtArm",
    "outputId": "77867003-4c85-4460-c859-83c2efb70a56"
   },
   "outputs": [
    {
     "name": "stdout",
     "output_type": "stream",
     "text": [
      "There are 768 rows and 9 columns\n"
     ]
    }
   ],
   "source": [
    "nr, nc = data.shape\n",
    "print (f\"There are {nr} rows and {nc} columns\")"
   ]
  },
  {
   "cell_type": "code",
   "execution_count": 64,
   "metadata": {
    "execution": {
     "iopub.execute_input": "2022-10-29T15:51:14.212117Z",
     "iopub.status.busy": "2022-10-29T15:51:14.211638Z",
     "iopub.status.idle": "2022-10-29T15:51:14.217681Z",
     "shell.execute_reply": "2022-10-29T15:51:14.216423Z",
     "shell.execute_reply.started": "2022-10-29T15:51:14.212032Z"
    },
    "id": "GLkXY26ktAvl",
    "outputId": "af5c696b-0ee2-4d95-c042-eddbab346a04"
   },
   "outputs": [
    {
     "name": "stdout",
     "output_type": "stream",
     "text": [
      "There are 6912 atributes in data\n"
     ]
    }
   ],
   "source": [
    "data.size\n",
    "print (f\"There are {data.size} atributes in data\")"
   ]
  },
  {
   "cell_type": "code",
   "execution_count": 65,
   "metadata": {
    "execution": {
     "iopub.execute_input": "2022-10-15T05:12:05.917765Z",
     "iopub.status.busy": "2022-10-15T05:12:05.916617Z",
     "iopub.status.idle": "2022-10-15T05:12:05.92637Z",
     "shell.execute_reply": "2022-10-15T05:12:05.924873Z",
     "shell.execute_reply.started": "2022-10-15T05:12:05.917717Z"
    },
    "id": "XAXBCG-etAyu",
    "outputId": "779ac6c3-5abe-4dba-ef11-b0b8cc414cc5"
   },
   "outputs": [
    {
     "data": {
      "text/plain": [
       "Index(['Pregnancies', 'Glucose', 'BloodPressure', 'SkinThickness', 'Insulin',\n",
       "       'BMI', 'DiabetesPedigreeFunction', 'Age', 'Outcome'],\n",
       "      dtype='object')"
      ]
     },
     "execution_count": 65,
     "metadata": {},
     "output_type": "execute_result"
    }
   ],
   "source": [
    "data.columns"
   ]
  },
  {
   "cell_type": "code",
   "execution_count": 93,
   "metadata": {},
   "outputs": [
    {
     "data": {
      "text/plain": [
       "0      1\n",
       "1      0\n",
       "2      1\n",
       "3      0\n",
       "4      1\n",
       "      ..\n",
       "763    0\n",
       "764    0\n",
       "765    0\n",
       "766    1\n",
       "767    0\n",
       "Name: Outcome, Length: 768, dtype: int64"
      ]
     },
     "execution_count": 93,
     "metadata": {},
     "output_type": "execute_result"
    }
   ],
   "source": [
    "data[\"Outcome\"]"
   ]
  },
  {
   "cell_type": "code",
   "execution_count": 66,
   "metadata": {
    "execution": {
     "iopub.execute_input": "2022-10-15T05:12:05.929356Z",
     "iopub.status.busy": "2022-10-15T05:12:05.928557Z",
     "iopub.status.idle": "2022-10-15T05:12:05.950576Z",
     "shell.execute_reply": "2022-10-15T05:12:05.949055Z",
     "shell.execute_reply.started": "2022-10-15T05:12:05.929307Z"
    },
    "id": "X5O_XAAbtA1X",
    "outputId": "865f00f6-1fb1-4f68-f5d0-e0542f5e6eb3"
   },
   "outputs": [
    {
     "data": {
      "text/plain": [
       "Pregnancies                   int64\n",
       "Glucose                       int64\n",
       "BloodPressure                 int64\n",
       "SkinThickness                 int64\n",
       "Insulin                       int64\n",
       "BMI                         float64\n",
       "DiabetesPedigreeFunction    float64\n",
       "Age                           int64\n",
       "Outcome                       int64\n",
       "dtype: object"
      ]
     },
     "execution_count": 66,
     "metadata": {},
     "output_type": "execute_result"
    }
   ],
   "source": [
    "data.dtypes"
   ]
  },
  {
   "cell_type": "code",
   "execution_count": 67,
   "metadata": {
    "execution": {
     "iopub.execute_input": "2022-10-15T05:12:05.954142Z",
     "iopub.status.busy": "2022-10-15T05:12:05.95276Z",
     "iopub.status.idle": "2022-10-15T05:12:05.976523Z",
     "shell.execute_reply": "2022-10-15T05:12:05.975011Z",
     "shell.execute_reply.started": "2022-10-15T05:12:05.954093Z"
    },
    "id": "Q7m_bOU_tA4i",
    "outputId": "a3d4a29b-3d5c-4670-c4e3-ff0cfc355f8b"
   },
   "outputs": [
    {
     "name": "stdout",
     "output_type": "stream",
     "text": [
      "<class 'pandas.core.frame.DataFrame'>\n",
      "RangeIndex: 768 entries, 0 to 767\n",
      "Data columns (total 9 columns):\n",
      " #   Column                    Non-Null Count  Dtype  \n",
      "---  ------                    --------------  -----  \n",
      " 0   Pregnancies               768 non-null    int64  \n",
      " 1   Glucose                   768 non-null    int64  \n",
      " 2   BloodPressure             768 non-null    int64  \n",
      " 3   SkinThickness             768 non-null    int64  \n",
      " 4   Insulin                   768 non-null    int64  \n",
      " 5   BMI                       768 non-null    float64\n",
      " 6   DiabetesPedigreeFunction  768 non-null    float64\n",
      " 7   Age                       768 non-null    int64  \n",
      " 8   Outcome                   768 non-null    int64  \n",
      "dtypes: float64(2), int64(7)\n",
      "memory usage: 54.1 KB\n"
     ]
    }
   ],
   "source": [
    "data.info()"
   ]
  },
  {
   "cell_type": "code",
   "execution_count": 68,
   "metadata": {
    "execution": {
     "iopub.execute_input": "2022-10-15T05:12:05.979392Z",
     "iopub.status.busy": "2022-10-15T05:12:05.978583Z",
     "iopub.status.idle": "2022-10-15T05:12:06.041223Z",
     "shell.execute_reply": "2022-10-15T05:12:06.040065Z",
     "shell.execute_reply.started": "2022-10-15T05:12:05.979339Z"
    },
    "id": "GSrC4yV4tA7d",
    "outputId": "5a4117fc-a2d7-485b-f44f-7893134185f2"
   },
   "outputs": [
    {
     "data": {
      "text/html": [
       "<style type=\"text/css\">\n",
       "#T_dccad_row0_col0, #T_dccad_row0_col1, #T_dccad_row0_col2, #T_dccad_row0_col3, #T_dccad_row0_col5, #T_dccad_row0_col6, #T_dccad_row0_col7, #T_dccad_row0_col8, #T_dccad_row7_col4 {\n",
       "  background-color: #023858;\n",
       "  color: #f1f1f1;\n",
       "}\n",
       "#T_dccad_row0_col4 {\n",
       "  background-color: #03517e;\n",
       "  color: #f1f1f1;\n",
       "}\n",
       "#T_dccad_row1_col0, #T_dccad_row2_col0, #T_dccad_row5_col0 {\n",
       "  background-color: #fef6fb;\n",
       "  color: #000000;\n",
       "}\n",
       "#T_dccad_row1_col1, #T_dccad_row7_col2 {\n",
       "  background-color: #e5e1ef;\n",
       "  color: #000000;\n",
       "}\n",
       "#T_dccad_row1_col2, #T_dccad_row7_col7 {\n",
       "  background-color: #f1ebf5;\n",
       "  color: #000000;\n",
       "}\n",
       "#T_dccad_row1_col3, #T_dccad_row2_col2 {\n",
       "  background-color: #fbf4f9;\n",
       "  color: #000000;\n",
       "}\n",
       "#T_dccad_row1_col4, #T_dccad_row5_col2 {\n",
       "  background-color: #f1ebf4;\n",
       "  color: #000000;\n",
       "}\n",
       "#T_dccad_row1_col5, #T_dccad_row2_col1, #T_dccad_row5_col5, #T_dccad_row6_col3 {\n",
       "  background-color: #f9f2f8;\n",
       "  color: #000000;\n",
       "}\n",
       "#T_dccad_row1_col6, #T_dccad_row1_col8, #T_dccad_row2_col6, #T_dccad_row2_col7, #T_dccad_row2_col8, #T_dccad_row3_col0, #T_dccad_row3_col1, #T_dccad_row3_col2, #T_dccad_row3_col3, #T_dccad_row3_col4, #T_dccad_row3_col5, #T_dccad_row3_col6, #T_dccad_row3_col8, #T_dccad_row4_col0, #T_dccad_row4_col3, #T_dccad_row4_col4, #T_dccad_row4_col6, #T_dccad_row4_col8, #T_dccad_row5_col6, #T_dccad_row5_col8, #T_dccad_row6_col6, #T_dccad_row6_col8, #T_dccad_row7_col6, #T_dccad_row7_col8 {\n",
       "  background-color: #fff7fb;\n",
       "  color: #000000;\n",
       "}\n",
       "#T_dccad_row1_col7, #T_dccad_row5_col3 {\n",
       "  background-color: #fbf3f9;\n",
       "  color: #000000;\n",
       "}\n",
       "#T_dccad_row2_col3, #T_dccad_row5_col7, #T_dccad_row7_col0 {\n",
       "  background-color: #fcf4fa;\n",
       "  color: #000000;\n",
       "}\n",
       "#T_dccad_row2_col4 {\n",
       "  background-color: #eae6f1;\n",
       "  color: #000000;\n",
       "}\n",
       "#T_dccad_row2_col5, #T_dccad_row6_col0 {\n",
       "  background-color: #fef6fa;\n",
       "  color: #000000;\n",
       "}\n",
       "#T_dccad_row3_col7, #T_dccad_row4_col7 {\n",
       "  background-color: #fdf5fa;\n",
       "  color: #000000;\n",
       "}\n",
       "#T_dccad_row4_col1, #T_dccad_row7_col3 {\n",
       "  background-color: #ebe6f2;\n",
       "  color: #000000;\n",
       "}\n",
       "#T_dccad_row4_col2 {\n",
       "  background-color: #f3edf5;\n",
       "  color: #000000;\n",
       "}\n",
       "#T_dccad_row4_col5, #T_dccad_row5_col4, #T_dccad_row6_col7 {\n",
       "  background-color: #faf2f8;\n",
       "  color: #000000;\n",
       "}\n",
       "#T_dccad_row5_col1 {\n",
       "  background-color: #e6e2ef;\n",
       "  color: #000000;\n",
       "}\n",
       "#T_dccad_row6_col1 {\n",
       "  background-color: #e0dded;\n",
       "  color: #000000;\n",
       "}\n",
       "#T_dccad_row6_col2 {\n",
       "  background-color: #f0eaf4;\n",
       "  color: #000000;\n",
       "}\n",
       "#T_dccad_row6_col4 {\n",
       "  background-color: #e7e3f0;\n",
       "  color: #000000;\n",
       "}\n",
       "#T_dccad_row6_col5 {\n",
       "  background-color: #f8f1f8;\n",
       "  color: #000000;\n",
       "}\n",
       "#T_dccad_row7_col1 {\n",
       "  background-color: #cdd0e5;\n",
       "  color: #000000;\n",
       "}\n",
       "#T_dccad_row7_col5 {\n",
       "  background-color: #f2ecf5;\n",
       "  color: #000000;\n",
       "}\n",
       "</style>\n",
       "<table id=\"T_dccad\">\n",
       "  <thead>\n",
       "    <tr>\n",
       "      <th class=\"blank level0\" >&nbsp;</th>\n",
       "      <th id=\"T_dccad_level0_col0\" class=\"col_heading level0 col0\" >Pregnancies</th>\n",
       "      <th id=\"T_dccad_level0_col1\" class=\"col_heading level0 col1\" >Glucose</th>\n",
       "      <th id=\"T_dccad_level0_col2\" class=\"col_heading level0 col2\" >BloodPressure</th>\n",
       "      <th id=\"T_dccad_level0_col3\" class=\"col_heading level0 col3\" >SkinThickness</th>\n",
       "      <th id=\"T_dccad_level0_col4\" class=\"col_heading level0 col4\" >Insulin</th>\n",
       "      <th id=\"T_dccad_level0_col5\" class=\"col_heading level0 col5\" >BMI</th>\n",
       "      <th id=\"T_dccad_level0_col6\" class=\"col_heading level0 col6\" >DiabetesPedigreeFunction</th>\n",
       "      <th id=\"T_dccad_level0_col7\" class=\"col_heading level0 col7\" >Age</th>\n",
       "      <th id=\"T_dccad_level0_col8\" class=\"col_heading level0 col8\" >Outcome</th>\n",
       "    </tr>\n",
       "  </thead>\n",
       "  <tbody>\n",
       "    <tr>\n",
       "      <th id=\"T_dccad_level0_row0\" class=\"row_heading level0 row0\" >count</th>\n",
       "      <td id=\"T_dccad_row0_col0\" class=\"data row0 col0\" >768.000000</td>\n",
       "      <td id=\"T_dccad_row0_col1\" class=\"data row0 col1\" >768.000000</td>\n",
       "      <td id=\"T_dccad_row0_col2\" class=\"data row0 col2\" >768.000000</td>\n",
       "      <td id=\"T_dccad_row0_col3\" class=\"data row0 col3\" >768.000000</td>\n",
       "      <td id=\"T_dccad_row0_col4\" class=\"data row0 col4\" >768.000000</td>\n",
       "      <td id=\"T_dccad_row0_col5\" class=\"data row0 col5\" >768.000000</td>\n",
       "      <td id=\"T_dccad_row0_col6\" class=\"data row0 col6\" >768.000000</td>\n",
       "      <td id=\"T_dccad_row0_col7\" class=\"data row0 col7\" >768.000000</td>\n",
       "      <td id=\"T_dccad_row0_col8\" class=\"data row0 col8\" >768.000000</td>\n",
       "    </tr>\n",
       "    <tr>\n",
       "      <th id=\"T_dccad_level0_row1\" class=\"row_heading level0 row1\" >mean</th>\n",
       "      <td id=\"T_dccad_row1_col0\" class=\"data row1 col0\" >3.850000</td>\n",
       "      <td id=\"T_dccad_row1_col1\" class=\"data row1 col1\" >120.890000</td>\n",
       "      <td id=\"T_dccad_row1_col2\" class=\"data row1 col2\" >69.110000</td>\n",
       "      <td id=\"T_dccad_row1_col3\" class=\"data row1 col3\" >20.540000</td>\n",
       "      <td id=\"T_dccad_row1_col4\" class=\"data row1 col4\" >79.800000</td>\n",
       "      <td id=\"T_dccad_row1_col5\" class=\"data row1 col5\" >31.990000</td>\n",
       "      <td id=\"T_dccad_row1_col6\" class=\"data row1 col6\" >0.470000</td>\n",
       "      <td id=\"T_dccad_row1_col7\" class=\"data row1 col7\" >33.240000</td>\n",
       "      <td id=\"T_dccad_row1_col8\" class=\"data row1 col8\" >0.350000</td>\n",
       "    </tr>\n",
       "    <tr>\n",
       "      <th id=\"T_dccad_level0_row2\" class=\"row_heading level0 row2\" >std</th>\n",
       "      <td id=\"T_dccad_row2_col0\" class=\"data row2 col0\" >3.370000</td>\n",
       "      <td id=\"T_dccad_row2_col1\" class=\"data row2 col1\" >31.970000</td>\n",
       "      <td id=\"T_dccad_row2_col2\" class=\"data row2 col2\" >19.360000</td>\n",
       "      <td id=\"T_dccad_row2_col3\" class=\"data row2 col3\" >15.950000</td>\n",
       "      <td id=\"T_dccad_row2_col4\" class=\"data row2 col4\" >115.240000</td>\n",
       "      <td id=\"T_dccad_row2_col5\" class=\"data row2 col5\" >7.880000</td>\n",
       "      <td id=\"T_dccad_row2_col6\" class=\"data row2 col6\" >0.330000</td>\n",
       "      <td id=\"T_dccad_row2_col7\" class=\"data row2 col7\" >11.760000</td>\n",
       "      <td id=\"T_dccad_row2_col8\" class=\"data row2 col8\" >0.480000</td>\n",
       "    </tr>\n",
       "    <tr>\n",
       "      <th id=\"T_dccad_level0_row3\" class=\"row_heading level0 row3\" >min</th>\n",
       "      <td id=\"T_dccad_row3_col0\" class=\"data row3 col0\" >0.000000</td>\n",
       "      <td id=\"T_dccad_row3_col1\" class=\"data row3 col1\" >0.000000</td>\n",
       "      <td id=\"T_dccad_row3_col2\" class=\"data row3 col2\" >0.000000</td>\n",
       "      <td id=\"T_dccad_row3_col3\" class=\"data row3 col3\" >0.000000</td>\n",
       "      <td id=\"T_dccad_row3_col4\" class=\"data row3 col4\" >0.000000</td>\n",
       "      <td id=\"T_dccad_row3_col5\" class=\"data row3 col5\" >0.000000</td>\n",
       "      <td id=\"T_dccad_row3_col6\" class=\"data row3 col6\" >0.080000</td>\n",
       "      <td id=\"T_dccad_row3_col7\" class=\"data row3 col7\" >21.000000</td>\n",
       "      <td id=\"T_dccad_row3_col8\" class=\"data row3 col8\" >0.000000</td>\n",
       "    </tr>\n",
       "    <tr>\n",
       "      <th id=\"T_dccad_level0_row4\" class=\"row_heading level0 row4\" >25%</th>\n",
       "      <td id=\"T_dccad_row4_col0\" class=\"data row4 col0\" >1.000000</td>\n",
       "      <td id=\"T_dccad_row4_col1\" class=\"data row4 col1\" >99.000000</td>\n",
       "      <td id=\"T_dccad_row4_col2\" class=\"data row4 col2\" >62.000000</td>\n",
       "      <td id=\"T_dccad_row4_col3\" class=\"data row4 col3\" >0.000000</td>\n",
       "      <td id=\"T_dccad_row4_col4\" class=\"data row4 col4\" >0.000000</td>\n",
       "      <td id=\"T_dccad_row4_col5\" class=\"data row4 col5\" >27.300000</td>\n",
       "      <td id=\"T_dccad_row4_col6\" class=\"data row4 col6\" >0.240000</td>\n",
       "      <td id=\"T_dccad_row4_col7\" class=\"data row4 col7\" >24.000000</td>\n",
       "      <td id=\"T_dccad_row4_col8\" class=\"data row4 col8\" >0.000000</td>\n",
       "    </tr>\n",
       "    <tr>\n",
       "      <th id=\"T_dccad_level0_row5\" class=\"row_heading level0 row5\" >50%</th>\n",
       "      <td id=\"T_dccad_row5_col0\" class=\"data row5 col0\" >3.000000</td>\n",
       "      <td id=\"T_dccad_row5_col1\" class=\"data row5 col1\" >117.000000</td>\n",
       "      <td id=\"T_dccad_row5_col2\" class=\"data row5 col2\" >72.000000</td>\n",
       "      <td id=\"T_dccad_row5_col3\" class=\"data row5 col3\" >23.000000</td>\n",
       "      <td id=\"T_dccad_row5_col4\" class=\"data row5 col4\" >30.500000</td>\n",
       "      <td id=\"T_dccad_row5_col5\" class=\"data row5 col5\" >32.000000</td>\n",
       "      <td id=\"T_dccad_row5_col6\" class=\"data row5 col6\" >0.370000</td>\n",
       "      <td id=\"T_dccad_row5_col7\" class=\"data row5 col7\" >29.000000</td>\n",
       "      <td id=\"T_dccad_row5_col8\" class=\"data row5 col8\" >0.000000</td>\n",
       "    </tr>\n",
       "    <tr>\n",
       "      <th id=\"T_dccad_level0_row6\" class=\"row_heading level0 row6\" >75%</th>\n",
       "      <td id=\"T_dccad_row6_col0\" class=\"data row6 col0\" >6.000000</td>\n",
       "      <td id=\"T_dccad_row6_col1\" class=\"data row6 col1\" >140.250000</td>\n",
       "      <td id=\"T_dccad_row6_col2\" class=\"data row6 col2\" >80.000000</td>\n",
       "      <td id=\"T_dccad_row6_col3\" class=\"data row6 col3\" >32.000000</td>\n",
       "      <td id=\"T_dccad_row6_col4\" class=\"data row6 col4\" >127.250000</td>\n",
       "      <td id=\"T_dccad_row6_col5\" class=\"data row6 col5\" >36.600000</td>\n",
       "      <td id=\"T_dccad_row6_col6\" class=\"data row6 col6\" >0.630000</td>\n",
       "      <td id=\"T_dccad_row6_col7\" class=\"data row6 col7\" >41.000000</td>\n",
       "      <td id=\"T_dccad_row6_col8\" class=\"data row6 col8\" >1.000000</td>\n",
       "    </tr>\n",
       "    <tr>\n",
       "      <th id=\"T_dccad_level0_row7\" class=\"row_heading level0 row7\" >max</th>\n",
       "      <td id=\"T_dccad_row7_col0\" class=\"data row7 col0\" >17.000000</td>\n",
       "      <td id=\"T_dccad_row7_col1\" class=\"data row7 col1\" >199.000000</td>\n",
       "      <td id=\"T_dccad_row7_col2\" class=\"data row7 col2\" >122.000000</td>\n",
       "      <td id=\"T_dccad_row7_col3\" class=\"data row7 col3\" >99.000000</td>\n",
       "      <td id=\"T_dccad_row7_col4\" class=\"data row7 col4\" >846.000000</td>\n",
       "      <td id=\"T_dccad_row7_col5\" class=\"data row7 col5\" >67.100000</td>\n",
       "      <td id=\"T_dccad_row7_col6\" class=\"data row7 col6\" >2.420000</td>\n",
       "      <td id=\"T_dccad_row7_col7\" class=\"data row7 col7\" >81.000000</td>\n",
       "      <td id=\"T_dccad_row7_col8\" class=\"data row7 col8\" >1.000000</td>\n",
       "    </tr>\n",
       "  </tbody>\n",
       "</table>\n"
      ],
      "text/plain": [
       "<pandas.io.formats.style.Styler at 0x7f62bc576070>"
      ]
     },
     "execution_count": 68,
     "metadata": {},
     "output_type": "execute_result"
    }
   ],
   "source": [
    "data.describe().round(2).style.background_gradient()"
   ]
  },
  {
   "cell_type": "code",
   "execution_count": 69,
   "metadata": {
    "execution": {
     "iopub.execute_input": "2022-10-15T05:12:06.04383Z",
     "iopub.status.busy": "2022-10-15T05:12:06.043073Z",
     "iopub.status.idle": "2022-10-15T05:12:06.056753Z",
     "shell.execute_reply": "2022-10-15T05:12:06.055325Z",
     "shell.execute_reply.started": "2022-10-15T05:12:06.043787Z"
    },
    "id": "Iu-CvuMhtA-O",
    "outputId": "c470eae9-fd0c-4f39-8efe-6f8c280e61b5"
   },
   "outputs": [
    {
     "data": {
      "text/plain": [
       "Pregnancies                 0\n",
       "Glucose                     0\n",
       "BloodPressure               0\n",
       "SkinThickness               0\n",
       "Insulin                     0\n",
       "BMI                         0\n",
       "DiabetesPedigreeFunction    0\n",
       "Age                         0\n",
       "Outcome                     0\n",
       "dtype: int64"
      ]
     },
     "execution_count": 69,
     "metadata": {},
     "output_type": "execute_result"
    }
   ],
   "source": [
    "data.isnull().sum()"
   ]
  },
  {
   "cell_type": "code",
   "execution_count": 87,
   "metadata": {
    "execution": {
     "iopub.execute_input": "2022-10-15T05:12:06.062852Z",
     "iopub.status.busy": "2022-10-15T05:12:06.062021Z",
     "iopub.status.idle": "2022-10-15T05:12:06.074657Z",
     "shell.execute_reply": "2022-10-15T05:12:06.073205Z",
     "shell.execute_reply.started": "2022-10-15T05:12:06.062813Z"
    },
    "id": "FBoTauJ-tBBz",
    "outputId": "58423c0b-1d39-4806-da3b-63991fd50d9b"
   },
   "outputs": [
    {
     "data": {
      "text/plain": [
       "0"
      ]
     },
     "execution_count": 87,
     "metadata": {},
     "output_type": "execute_result"
    }
   ],
   "source": [
    "data.duplicated().sum()"
   ]
  },
  {
   "cell_type": "markdown",
   "metadata": {
    "id": "cvkUM01dASu7"
   },
   "source": [
    "### EDA"
   ]
  },
  {
   "cell_type": "code",
   "execution_count": 88,
   "metadata": {
    "execution": {
     "iopub.execute_input": "2022-10-15T05:12:06.077378Z",
     "iopub.status.busy": "2022-10-15T05:12:06.076645Z",
     "iopub.status.idle": "2022-10-15T05:12:06.461408Z",
     "shell.execute_reply": "2022-10-15T05:12:06.460048Z",
     "shell.execute_reply.started": "2022-10-15T05:12:06.077334Z"
    },
    "id": "oqhNkjintBFt",
    "outputId": "6b4eae66-3838-4a5a-c4ae-9584c8d14d37"
   },
   "outputs": [
    {
     "name": "stderr",
     "output_type": "stream",
     "text": [
      "/tmp/ipykernel_31971/3819124131.py:2: DeprecationWarning:\n",
      "\n",
      "`np.bool` is a deprecated alias for the builtin `bool`. To silence this warning, use `bool` by itself. Doing this will not modify any behavior and is safe. If you specifically wanted the numpy scalar type, use `np.bool_` here.\n",
      "Deprecated in NumPy 1.20; for more details and guidance: https://numpy.org/devdocs/release/1.20.0-notes.html#deprecations\n",
      "\n"
     ]
    },
    {
     "data": {
      "text/plain": [
       "<AxesSubplot:>"
      ]
     },
     "execution_count": 88,
     "metadata": {},
     "output_type": "execute_result"
    },
    {
     "data": {
      "image/png": "[encoded data removed]",
      "text/plain": [
       "<Figure size 504x360 with 2 Axes>"
      ]
     },
     "metadata": {
      "needs_background": "light"
     },
     "output_type": "display_data"
    }
   ],
   "source": [
    "corr=data.corr()\n",
    "mask = np.zeros_like(corr, dtype=np.bool)\n",
    "mask[np.triu_indices_from(mask)] = True\n",
    "f, ax = plt.subplots(figsize=(7, 5))\n",
    "cmap = sns.diverging_palette(220, 10, as_cmap=True)\n",
    "sns.heatmap(corr, mask=mask, cmap=cmap, vmax=.5, center=0, linewidths=.5, cbar_kws={\"shrink\": .5})"
   ]
  },
  {
   "cell_type": "code",
   "execution_count": 89,
   "metadata": {
    "execution": {
     "iopub.execute_input": "2022-10-15T05:12:06.463786Z",
     "iopub.status.busy": "2022-10-15T05:12:06.463299Z",
     "iopub.status.idle": "2022-10-15T05:12:06.523436Z",
     "shell.execute_reply": "2022-10-15T05:12:06.522089Z",
     "shell.execute_reply.started": "2022-10-15T05:12:06.463743Z"
    },
    "id": "DvacoWgxxS0f",
    "outputId": "c0fb4e0e-0928-4887-b8e6-7d333e125392"
   },
   "outputs": [
    {
     "data": {
      "application/vnd.plotly.v1+json": {
       "config": {
        "plotlyServerURL": "https://plot.ly"
       },
       "data": [
        {
         "domain": {
          "x": [
           0,
           1
          ],
          "y": [
           0,
           1
          ]
         },
         "hovertemplate": "label=%{label}<br>value=%{value}<extra></extra>",
         "labels": [
          "don't have diabetes",
          "have diabetes"
         ],
         "legendgroup": "",
         "name": "",
         "showlegend": true,
         "type": "pie",
         "values": [
          500,
          268
         ]
        }
       ],
       "layout": {
        "height": 400,
        "legend": {
         "tracegroupgap": 0
        },
        "piecolorway": [
         "skyblue",
         "black"
        ],
        "template": {
         "data": {
          "bar": [
           {
            "error_x": {
             "color": "#2a3f5f"
            },
            "error_y": {
             "color": "#2a3f5f"
            },
            "marker": {
             "line": {
              "color": "#E5ECF6",
              "width": 0.5
             },
             "pattern": {
              "fillmode": "overlay",
              "size": 10,
              "solidity": 0.2
             }
            },
            "type": "bar"
           }
          ],
          "barpolar": [
           {
            "marker": {
             "line": {
              "color": "#E5ECF6",
              "width": 0.5
             },
             "pattern": {
              "fillmode": "overlay",
              "size": 10,
              "solidity": 0.2
             }
            },
            "type": "barpolar"
           }
          ],
          "carpet": [
           {
            "aaxis": {
             "endlinecolor": "#2a3f5f",
             "gridcolor": "white",
             "linecolor": "white",
             "minorgridcolor": "white",
             "startlinecolor": "#2a3f5f"
            },
            "baxis": {
             "endlinecolor": "#2a3f5f",
             "gridcolor": "white",
             "linecolor": "white",
             "minorgridcolor": "white",
             "startlinecolor": "#2a3f5f"
            },
            "type": "carpet"
           }
          ],
          "choropleth": [
           {
            "colorbar": {
             "outlinewidth": 0,
             "ticks": ""
            },
            "type": "choropleth"
           }
          ],
          "contour": [
           {
            "colorbar": {
             "outlinewidth": 0,
             "ticks": ""
            },
            "colorscale": [
             [
              0,
              "#0d0887"
             ],
             [
              0.1111111111111111,
              "#46039f"
             ],
             [
              0.2222222222222222,
              "#7201a8"
             ],
             [
              0.3333333333333333,
              "#9c179e"
             ],
             [
              0.4444444444444444,
              "#bd3786"
             ],
             [
              0.5555555555555556,
              "#d8576b"
             ],
             [
              0.6666666666666666,
              "#ed7953"
             ],
             [
              0.7777777777777778,
              "#fb9f3a"
             ],
             [
              0.8888888888888888,
              "#fdca26"
             ],
             [
              1,
              "#f0f921"
             ]
            ],
            "type": "contour"
           }
          ],
          "contourcarpet": [
           {
            "colorbar": {
             "outlinewidth": 0,
             "ticks": ""
            },
            "type": "contourcarpet"
           }
          ],
          "heatmap": [
           {
            "colorbar": {
             "outlinewidth": 0,
             "ticks": ""
            },
            "colorscale": [
             [
              0,
              "#0d0887"
             ],
             [
              0.1111111111111111,
              "#46039f"
             ],
             [
              0.2222222222222222,
              "#7201a8"
             ],
             [
              0.3333333333333333,
              "#9c179e"
             ],
             [
              0.4444444444444444,
              "#bd3786"
             ],
             [
              0.5555555555555556,
              "#d8576b"
             ],
             [
              0.6666666666666666,
              "#ed7953"
             ],
             [
              0.7777777777777778,
              "#fb9f3a"
             ],
             [
              0.8888888888888888,
              "#fdca26"
             ],
             [
              1,
              "#f0f921"
             ]
            ],
            "type": "heatmap"
           }
          ],
          "heatmapgl": [
           {
            "colorbar": {
             "outlinewidth": 0,
             "ticks": ""
            },
            "colorscale": [
             [
              0,
              "#0d0887"
             ],
             [
              0.1111111111111111,
              "#46039f"
             ],
             [
              0.2222222222222222,
              "#7201a8"
             ],
             [
              0.3333333333333333,
              "#9c179e"
             ],
             [
              0.4444444444444444,
              "#bd3786"
             ],
             [
              0.5555555555555556,
              "#d8576b"
             ],
             [
              0.6666666666666666,
              "#ed7953"
             ],
             [
              0.7777777777777778,
              "#fb9f3a"
             ],
             [
              0.8888888888888888,
              "#fdca26"
             ],
             [
              1,
              "#f0f921"
             ]
            ],
            "type": "heatmapgl"
           }
          ],
          "histogram": [
           {
            "marker": {
             "pattern": {
              "fillmode": "overlay",
              "size": 10,
              "solidity": 0.2
             }
            },
            "type": "histogram"
           }
          ],
          "histogram2d": [
           {
            "colorbar": {
             "outlinewidth": 0,
             "ticks": ""
            },
            "colorscale": [
             [
              0,
              "#0d0887"
             ],
             [
              0.1111111111111111,
              "#46039f"
             ],
             [
              0.2222222222222222,
              "#7201a8"
             ],
             [
              0.3333333333333333,
              "#9c179e"
             ],
             [
              0.4444444444444444,
              "#bd3786"
             ],
             [
              0.5555555555555556,
              "#d8576b"
             ],
             [
              0.6666666666666666,
              "#ed7953"
             ],
             [
              0.7777777777777778,
              "#fb9f3a"
             ],
             [
              0.8888888888888888,
              "#fdca26"
             ],
             [
              1,
              "#f0f921"
             ]
            ],
            "type": "histogram2d"
           }
          ],
          "histogram2dcontour": [
           {
            "colorbar": {
             "outlinewidth": 0,
             "ticks": ""
            },
            "colorscale": [
             [
              0,
              "#0d0887"
             ],
             [
              0.1111111111111111,
              "#46039f"
             ],
             [
              0.2222222222222222,
              "#7201a8"
             ],
             [
              0.3333333333333333,
              "#9c179e"
             ],
             [
              0.4444444444444444,
              "#bd3786"
             ],
             [
              0.5555555555555556,
              "#d8576b"
             ],
             [
              0.6666666666666666,
              "#ed7953"
             ],
             [
              0.7777777777777778,
              "#fb9f3a"
             ],
             [
              0.8888888888888888,
              "#fdca26"
             ],
             [
              1,
              "#f0f921"
             ]
            ],
            "type": "histogram2dcontour"
           }
          ],
          "mesh3d": [
           {
            "colorbar": {
             "outlinewidth": 0,
             "ticks": ""
            },
            "type": "mesh3d"
           }
          ],
          "parcoords": [
           {
            "line": {
             "colorbar": {
              "outlinewidth": 0,
              "ticks": ""
             }
            },
            "type": "parcoords"
           }
          ],
          "pie": [
           {
            "automargin": true,
            "type": "pie"
           }
          ],
          "scatter": [
           {
            "fillpattern": {
             "fillmode": "overlay",
             "size": 10,
             "solidity": 0.2
            },
            "type": "scatter"
           }
          ],
          "scatter3d": [
           {
            "line": {
             "colorbar": {
              "outlinewidth": 0,
              "ticks": ""
             }
            },
            "marker": {
             "colorbar": {
              "outlinewidth": 0,
              "ticks": ""
             }
            },
            "type": "scatter3d"
           }
          ],
          "scattercarpet": [
           {
            "marker": {
             "colorbar": {
              "outlinewidth": 0,
              "ticks": ""
             }
            },
            "type": "scattercarpet"
           }
          ],
          "scattergeo": [
           {
            "marker": {
             "colorbar": {
              "outlinewidth": 0,
              "ticks": ""
             }
            },
            "type": "scattergeo"
           }
          ],
          "scattergl": [
           {
            "marker": {
             "colorbar": {
              "outlinewidth": 0,
              "ticks": ""
             }
            },
            "type": "scattergl"
           }
          ],
          "scattermapbox": [
           {
            "marker": {
             "colorbar": {
              "outlinewidth": 0,
              "ticks": ""
             }
            },
            "type": "scattermapbox"
           }
          ],
          "scatterpolar": [
           {
            "marker": {
             "colorbar": {
              "outlinewidth": 0,
              "ticks": ""
             }
            },
            "type": "scatterpolar"
           }
          ],
          "scatterpolargl": [
           {
            "marker": {
             "colorbar": {
              "outlinewidth": 0,
              "ticks": ""
             }
            },
            "type": "scatterpolargl"
           }
          ],
          "scatterternary": [
           {
            "marker": {
             "colorbar": {
              "outlinewidth": 0,
              "ticks": ""
             }
            },
            "type": "scatterternary"
           }
          ],
          "surface": [
           {
            "colorbar": {
             "outlinewidth": 0,
             "ticks": ""
            },
            "colorscale": [
             [
              0,
              "#0d0887"
             ],
             [
              0.1111111111111111,
              "#46039f"
             ],
             [
              0.2222222222222222,
              "#7201a8"
             ],
             [
              0.3333333333333333,
              "#9c179e"
             ],
             [
              0.4444444444444444,
              "#bd3786"
             ],
             [
              0.5555555555555556,
              "#d8576b"
             ],
             [
              0.6666666666666666,
              "#ed7953"
             ],
             [
              0.7777777777777778,
              "#fb9f3a"
             ],
             [
              0.8888888888888888,
              "#fdca26"
             ],
             [
              1,
              "#f0f921"
             ]
            ],
            "type": "surface"
           }
          ],
          "table": [
           {
            "cells": {
             "fill": {
              "color": "#EBF0F8"
             },
             "line": {
              "color": "white"
             }
            },
            "header": {
             "fill": {
              "color": "#C8D4E3"
             },
             "line": {
              "color": "white"
             }
            },
            "type": "table"
           }
          ]
         },
         "layout": {
          "annotationdefaults": {
           "arrowcolor": "#2a3f5f",
           "arrowhead": 0,
           "arrowwidth": 1
          },
          "autotypenumbers": "strict",
          "coloraxis": {
           "colorbar": {
            "outlinewidth": 0,
            "ticks": ""
           }
          },
          "colorscale": {
           "diverging": [
            [
             0,
             "#8e0152"
            ],
            [
             0.1,
             "#c51b7d"
            ],
            [
             0.2,
             "#de77ae"
            ],
            [
             0.3,
             "#f1b6da"
            ],
            [
             0.4,
             "#fde0ef"
            ],
            [
             0.5,
             "#f7f7f7"
            ],
            [
             0.6,
             "#e6f5d0"
            ],
            [
             0.7,
             "#b8e186"
            ],
            [
             0.8,
             "#7fbc41"
            ],
            [
             0.9,
             "#4d9221"
            ],
            [
             1,
             "#276419"
            ]
           ],
           "sequential": [
            [
             0,
             "#0d0887"
            ],
            [
             0.1111111111111111,
             "#46039f"
            ],
            [
             0.2222222222222222,
             "#7201a8"
            ],
            [
             0.3333333333333333,
             "#9c179e"
            ],
            [
             0.4444444444444444,
             "#bd3786"
            ],
            [
             0.5555555555555556,
             "#d8576b"
            ],
            [
             0.6666666666666666,
             "#ed7953"
            ],
            [
             0.7777777777777778,
             "#fb9f3a"
            ],
            [
             0.8888888888888888,
             "#fdca26"
            ],
            [
             1,
             "#f0f921"
            ]
           ],
           "sequentialminus": [
            [
             0,
             "#0d0887"
            ],
            [
             0.1111111111111111,
             "#46039f"
            ],
            [
             0.2222222222222222,
             "#7201a8"
            ],
            [
             0.3333333333333333,
             "#9c179e"
            ],
            [
             0.4444444444444444,
             "#bd3786"
            ],
            [
             0.5555555555555556,
             "#d8576b"
            ],
            [
             0.6666666666666666,
             "#ed7953"
            ],
            [
             0.7777777777777778,
             "#fb9f3a"
            ],
            [
             0.8888888888888888,
             "#fdca26"
            ],
            [
             1,
             "#f0f921"
            ]
           ]
          },
          "colorway": [
           "#636efa",
           "#EF553B",
           "#00cc96",
           "#ab63fa",
           "#FFA15A",
           "#19d3f3",
           "#FF6692",
           "#B6E880",
           "#FF97FF",
           "#FECB52"
          ],
          "font": {
           "color": "#2a3f5f"
          },
          "geo": {
           "bgcolor": "white",
           "lakecolor": "white",
           "landcolor": "#E5ECF6",
           "showlakes": true,
           "showland": true,
           "subunitcolor": "white"
          },
          "hoverlabel": {
           "align": "left"
          },
          "hovermode": "closest",
          "mapbox": {
           "style": "light"
          },
          "paper_bgcolor": "white",
          "plot_bgcolor": "#E5ECF6",
          "polar": {
           "angularaxis": {
            "gridcolor": "white",
            "linecolor": "white",
            "ticks": ""
           },
           "bgcolor": "#E5ECF6",
           "radialaxis": {
            "gridcolor": "white",
            "linecolor": "white",
            "ticks": ""
           }
          },
          "scene": {
           "xaxis": {
            "backgroundcolor": "#E5ECF6",
            "gridcolor": "white",
            "gridwidth": 2,
            "linecolor": "white",
            "showbackground": true,
            "ticks": "",
            "zerolinecolor": "white"
           },
           "yaxis": {
            "backgroundcolor": "#E5ECF6",
            "gridcolor": "white",
            "gridwidth": 2,
            "linecolor": "white",
            "showbackground": true,
            "ticks": "",
            "zerolinecolor": "white"
           },
           "zaxis": {
            "backgroundcolor": "#E5ECF6",
            "gridcolor": "white",
            "gridwidth": 2,
            "linecolor": "white",
            "showbackground": true,
            "ticks": "",
            "zerolinecolor": "white"
           }
          },
          "shapedefaults": {
           "line": {
            "color": "#2a3f5f"
           }
          },
          "ternary": {
           "aaxis": {
            "gridcolor": "white",
            "linecolor": "white",
            "ticks": ""
           },
           "baxis": {
            "gridcolor": "white",
            "linecolor": "white",
            "ticks": ""
           },
           "bgcolor": "#E5ECF6",
           "caxis": {
            "gridcolor": "white",
            "linecolor": "white",
            "ticks": ""
           }
          },
          "title": {
           "x": 0.05
          },
          "xaxis": {
           "automargin": true,
           "gridcolor": "white",
           "linecolor": "white",
           "ticks": "",
           "title": {
            "standoff": 15
           },
           "zerolinecolor": "white",
           "zerolinewidth": 2
          },
          "yaxis": {
           "automargin": true,
           "gridcolor": "white",
           "linecolor": "white",
           "ticks": "",
           "title": {
            "standoff": 15
           },
           "zerolinecolor": "white",
           "zerolinewidth": 2
          }
         }
        },
        "title": {
         "text": "percentage between have diabetes or not"
        },
        "width": 800
       }
      },
      "text/html": [
       "<div>                            <div id=\"dff26970-c8a9-4e51-bd94-492c20c3adfc\" class=\"plotly-graph-div\" style=\"height:400px; width:800px;\"></div>            <script type=\"text/javascript\">                require([\"plotly\"], function(Plotly) {                    window.PLOTLYENV=window.PLOTLYENV || {};                                    if (document.getElementById(\"dff26970-c8a9-4e51-bd94-492c20c3adfc\")) {                    Plotly.newPlot(                        \"dff26970-c8a9-4e51-bd94-492c20c3adfc\",                        [{\"domain\":{\"x\":[0.0,1.0],\"y\":[0.0,1.0]},\"hovertemplate\":\"label=%{label}<br>value=%{value}<extra></extra>\",\"labels\":[\"don't have diabetes\",\"have diabetes\"],\"legendgroup\":\"\",\"name\":\"\",\"showlegend\":true,\"values\":[500,268],\"type\":\"pie\"}],                        {\"template\":{\"data\":{\"histogram2dcontour\":[{\"type\":\"histogram2dcontour\",\"colorbar\":{\"outlinewidth\":0,\"ticks\":\"\"},\"colorscale\":[[0.0,\"#0d0887\"],[0.1111111111111111,\"#46039f\"],[0.2222222222222222,\"#7201a8\"],[0.3333333333333333,\"#9c179e\"],[0.4444444444444444,\"#bd3786\"],[0.5555555555555556,\"#d8576b\"],[0.6666666666666666,\"#ed7953\"],[0.7777777777777778,\"#fb9f3a\"],[0.8888888888888888,\"#fdca26\"],[1.0,\"#f0f921\"]]}],\"choropleth\":[{\"type\":\"choropleth\",\"colorbar\":{\"outlinewidth\":0,\"ticks\":\"\"}}],\"histogram2d\":[{\"type\":\"histogram2d\",\"colorbar\":{\"outlinewidth\":0,\"ticks\":\"\"},\"colorscale\":[[0.0,\"#0d0887\"],[0.1111111111111111,\"#46039f\"],[0.2222222222222222,\"#7201a8\"],[0.3333333333333333,\"#9c179e\"],[0.4444444444444444,\"#bd3786\"],[0.5555555555555556,\"#d8576b\"],[0.6666666666666666,\"#ed7953\"],[0.7777777777777778,\"#fb9f3a\"],[0.8888888888888888,\"#fdca26\"],[1.0,\"#f0f921\"]]}],\"heatmap\":[{\"type\":\"heatmap\",\"colorbar\":{\"outlinewidth\":0,\"ticks\":\"\"},\"colorscale\":[[0.0,\"#0d0887\"],[0.1111111111111111,\"#46039f\"],[0.2222222222222222,\"#7201a8\"],[0.3333333333333333,\"#9c179e\"],[0.4444444444444444,\"#bd3786\"],[0.5555555555555556,\"#d8576b\"],[0.6666666666666666,\"#ed7953\"],[0.7777777777777778,\"#fb9f3a\"],[0.8888888888888888,\"#fdca26\"],[1.0,\"#f0f921\"]]}],\"heatmapgl\":[{\"type\":\"heatmapgl\",\"colorbar\":{\"outlinewidth\":0,\"ticks\":\"\"},\"colorscale\":[[0.0,\"#0d0887\"],[0.1111111111111111,\"#46039f\"],[0.2222222222222222,\"#7201a8\"],[0.3333333333333333,\"#9c179e\"],[0.4444444444444444,\"#bd3786\"],[0.5555555555555556,\"#d8576b\"],[0.6666666666666666,\"#ed7953\"],[0.7777777777777778,\"#fb9f3a\"],[0.8888888888888888,\"#fdca26\"],[1.0,\"#f0f921\"]]}],\"contourcarpet\":[{\"type\":\"contourcarpet\",\"colorbar\":{\"outlinewidth\":0,\"ticks\":\"\"}}],\"contour\":[{\"type\":\"contour\",\"colorbar\":{\"outlinewidth\":0,\"ticks\":\"\"},\"colorscale\":[[0.0,\"#0d0887\"],[0.1111111111111111,\"#46039f\"],[0.2222222222222222,\"#7201a8\"],[0.3333333333333333,\"#9c179e\"],[0.4444444444444444,\"#bd3786\"],[0.5555555555555556,\"#d8576b\"],[0.6666666666666666,\"#ed7953\"],[0.7777777777777778,\"#fb9f3a\"],[0.8888888888888888,\"#fdca26\"],[1.0,\"#f0f921\"]]}],\"surface\":[{\"type\":\"surface\",\"colorbar\":{\"outlinewidth\":0,\"ticks\":\"\"},\"colorscale\":[[0.0,\"#0d0887\"],[0.1111111111111111,\"#46039f\"],[0.2222222222222222,\"#7201a8\"],[0.3333333333333333,\"#9c179e\"],[0.4444444444444444,\"#bd3786\"],[0.5555555555555556,\"#d8576b\"],[0.6666666666666666,\"#ed7953\"],[0.7777777777777778,\"#fb9f3a\"],[0.8888888888888888,\"#fdca26\"],[1.0,\"#f0f921\"]]}],\"mesh3d\":[{\"type\":\"mesh3d\",\"colorbar\":{\"outlinewidth\":0,\"ticks\":\"\"}}],\"scatter\":[{\"fillpattern\":{\"fillmode\":\"overlay\",\"size\":10,\"solidity\":0.2},\"type\":\"scatter\"}],\"parcoords\":[{\"type\":\"parcoords\",\"line\":{\"colorbar\":{\"outlinewidth\":0,\"ticks\":\"\"}}}],\"scatterpolargl\":[{\"type\":\"scatterpolargl\",\"marker\":{\"colorbar\":{\"outlinewidth\":0,\"ticks\":\"\"}}}],\"bar\":[{\"error_x\":{\"color\":\"#2a3f5f\"},\"error_y\":{\"color\":\"#2a3f5f\"},\"marker\":{\"line\":{\"color\":\"#E5ECF6\",\"width\":0.5},\"pattern\":{\"fillmode\":\"overlay\",\"size\":10,\"solidity\":0.2}},\"type\":\"bar\"}],\"scattergeo\":[{\"type\":\"scattergeo\",\"marker\":{\"colorbar\":{\"outlinewidth\":0,\"ticks\":\"\"}}}],\"scatterpolar\":[{\"type\":\"scatterpolar\",\"marker\":{\"colorbar\":{\"outlinewidth\":0,\"ticks\":\"\"}}}],\"histogram\":[{\"marker\":{\"pattern\":{\"fillmode\":\"overlay\",\"size\":10,\"solidity\":0.2}},\"type\":\"histogram\"}],\"scattergl\":[{\"type\":\"scattergl\",\"marker\":{\"colorbar\":{\"outlinewidth\":0,\"ticks\":\"\"}}}],\"scatter3d\":[{\"type\":\"scatter3d\",\"line\":{\"colorbar\":{\"outlinewidth\":0,\"ticks\":\"\"}},\"marker\":{\"colorbar\":{\"outlinewidth\":0,\"ticks\":\"\"}}}],\"scattermapbox\":[{\"type\":\"scattermapbox\",\"marker\":{\"colorbar\":{\"outlinewidth\":0,\"ticks\":\"\"}}}],\"scatterternary\":[{\"type\":\"scatterternary\",\"marker\":{\"colorbar\":{\"outlinewidth\":0,\"ticks\":\"\"}}}],\"scattercarpet\":[{\"type\":\"scattercarpet\",\"marker\":{\"colorbar\":{\"outlinewidth\":0,\"ticks\":\"\"}}}],\"carpet\":[{\"aaxis\":{\"endlinecolor\":\"#2a3f5f\",\"gridcolor\":\"white\",\"linecolor\":\"white\",\"minorgridcolor\":\"white\",\"startlinecolor\":\"#2a3f5f\"},\"baxis\":{\"endlinecolor\":\"#2a3f5f\",\"gridcolor\":\"white\",\"linecolor\":\"white\",\"minorgridcolor\":\"white\",\"startlinecolor\":\"#2a3f5f\"},\"type\":\"carpet\"}],\"table\":[{\"cells\":{\"fill\":{\"color\":\"#EBF0F8\"},\"line\":{\"color\":\"white\"}},\"header\":{\"fill\":{\"color\":\"#C8D4E3\"},\"line\":{\"color\":\"white\"}},\"type\":\"table\"}],\"barpolar\":[{\"marker\":{\"line\":{\"color\":\"#E5ECF6\",\"width\":0.5},\"pattern\":{\"fillmode\":\"overlay\",\"size\":10,\"solidity\":0.2}},\"type\":\"barpolar\"}],\"pie\":[{\"automargin\":true,\"type\":\"pie\"}]},\"layout\":{\"autotypenumbers\":\"strict\",\"colorway\":[\"#636efa\",\"#EF553B\",\"#00cc96\",\"#ab63fa\",\"#FFA15A\",\"#19d3f3\",\"#FF6692\",\"#B6E880\",\"#FF97FF\",\"#FECB52\"],\"font\":{\"color\":\"#2a3f5f\"},\"hovermode\":\"closest\",\"hoverlabel\":{\"align\":\"left\"},\"paper_bgcolor\":\"white\",\"plot_bgcolor\":\"#E5ECF6\",\"polar\":{\"bgcolor\":\"#E5ECF6\",\"angularaxis\":{\"gridcolor\":\"white\",\"linecolor\":\"white\",\"ticks\":\"\"},\"radialaxis\":{\"gridcolor\":\"white\",\"linecolor\":\"white\",\"ticks\":\"\"}},\"ternary\":{\"bgcolor\":\"#E5ECF6\",\"aaxis\":{\"gridcolor\":\"white\",\"linecolor\":\"white\",\"ticks\":\"\"},\"baxis\":{\"gridcolor\":\"white\",\"linecolor\":\"white\",\"ticks\":\"\"},\"caxis\":{\"gridcolor\":\"white\",\"linecolor\":\"white\",\"ticks\":\"\"}},\"coloraxis\":{\"colorbar\":{\"outlinewidth\":0,\"ticks\":\"\"}},\"colorscale\":{\"sequential\":[[0.0,\"#0d0887\"],[0.1111111111111111,\"#46039f\"],[0.2222222222222222,\"#7201a8\"],[0.3333333333333333,\"#9c179e\"],[0.4444444444444444,\"#bd3786\"],[0.5555555555555556,\"#d8576b\"],[0.6666666666666666,\"#ed7953\"],[0.7777777777777778,\"#fb9f3a\"],[0.8888888888888888,\"#fdca26\"],[1.0,\"#f0f921\"]],\"sequentialminus\":[[0.0,\"#0d0887\"],[0.1111111111111111,\"#46039f\"],[0.2222222222222222,\"#7201a8\"],[0.3333333333333333,\"#9c179e\"],[0.4444444444444444,\"#bd3786\"],[0.5555555555555556,\"#d8576b\"],[0.6666666666666666,\"#ed7953\"],[0.7777777777777778,\"#fb9f3a\"],[0.8888888888888888,\"#fdca26\"],[1.0,\"#f0f921\"]],\"diverging\":[[0,\"#8e0152\"],[0.1,\"#c51b7d\"],[0.2,\"#de77ae\"],[0.3,\"#f1b6da\"],[0.4,\"#fde0ef\"],[0.5,\"#f7f7f7\"],[0.6,\"#e6f5d0\"],[0.7,\"#b8e186\"],[0.8,\"#7fbc41\"],[0.9,\"#4d9221\"],[1,\"#276419\"]]},\"xaxis\":{\"gridcolor\":\"white\",\"linecolor\":\"white\",\"ticks\":\"\",\"title\":{\"standoff\":15},\"zerolinecolor\":\"white\",\"automargin\":true,\"zerolinewidth\":2},\"yaxis\":{\"gridcolor\":\"white\",\"linecolor\":\"white\",\"ticks\":\"\",\"title\":{\"standoff\":15},\"zerolinecolor\":\"white\",\"automargin\":true,\"zerolinewidth\":2},\"scene\":{\"xaxis\":{\"backgroundcolor\":\"#E5ECF6\",\"gridcolor\":\"white\",\"linecolor\":\"white\",\"showbackground\":true,\"ticks\":\"\",\"zerolinecolor\":\"white\",\"gridwidth\":2},\"yaxis\":{\"backgroundcolor\":\"#E5ECF6\",\"gridcolor\":\"white\",\"linecolor\":\"white\",\"showbackground\":true,\"ticks\":\"\",\"zerolinecolor\":\"white\",\"gridwidth\":2},\"zaxis\":{\"backgroundcolor\":\"#E5ECF6\",\"gridcolor\":\"white\",\"linecolor\":\"white\",\"showbackground\":true,\"ticks\":\"\",\"zerolinecolor\":\"white\",\"gridwidth\":2}},\"shapedefaults\":{\"line\":{\"color\":\"#2a3f5f\"}},\"annotationdefaults\":{\"arrowcolor\":\"#2a3f5f\",\"arrowhead\":0,\"arrowwidth\":1},\"geo\":{\"bgcolor\":\"white\",\"landcolor\":\"#E5ECF6\",\"subunitcolor\":\"white\",\"showland\":true,\"showlakes\":true,\"lakecolor\":\"white\"},\"title\":{\"x\":0.05},\"mapbox\":{\"style\":\"light\"}}},\"legend\":{\"tracegroupgap\":0},\"title\":{\"text\":\"percentage between have diabetes or not\"},\"piecolorway\":[\"skyblue\",\"black\"],\"height\":400,\"width\":800},                        {\"responsive\": true}                    ).then(function(){\n",
       "                            \n",
       "var gd = document.getElementById('dff26970-c8a9-4e51-bd94-492c20c3adfc');\n",
       "var x = new MutationObserver(function (mutations, observer) {{\n",
       "        var display = window.getComputedStyle(gd).display;\n",
       "        if (!display || display === 'none') {{\n",
       "            console.log([gd, 'removed!']);\n",
       "            Plotly.purge(gd);\n",
       "            observer.disconnect();\n",
       "        }}\n",
       "}});\n",
       "\n",
       "// Listen for the removal of the full notebook cells\n",
       "var notebookContainer = gd.closest('#notebook-container');\n",
       "if (notebookContainer) {{\n",
       "    x.observe(notebookContainer, {childList: true});\n",
       "}}\n",
       "\n",
       "// Listen for the clearing of the current output cell\n",
       "var outputEl = gd.closest('.output');\n",
       "if (outputEl) {{\n",
       "    x.observe(outputEl, {childList: true});\n",
       "}}\n",
       "\n",
       "                        })                };                });            </script>        </div>"
      ]
     },
     "metadata": {},
     "output_type": "display_data"
    }
   ],
   "source": [
    "lis=[\"don't have diabetes\",\"have diabetes\"]\n",
    "have_or_not = data[\"Outcome\"].value_counts().tolist()\n",
    "values = [have_or_not[0], have_or_not[1]]\n",
    "fig = px.pie(values=data['Outcome'].value_counts(), names=lis , width=800, height=400, color_discrete_sequence=[\"skyblue\",\"black\"]\n",
    "             ,title=\"percentage between have diabetes or not\")\n",
    "fig.show()"
   ]
  },
  {
   "cell_type": "code",
   "execution_count": 91,
   "metadata": {},
   "outputs": [
    {
     "data": {
      "text/plain": [
       "0      1\n",
       "1      0\n",
       "2      1\n",
       "3      0\n",
       "4      1\n",
       "      ..\n",
       "763    0\n",
       "764    0\n",
       "765    0\n",
       "766    1\n",
       "767    0\n",
       "Name: Outcome, Length: 768, dtype: int64"
      ]
     },
     "execution_count": 91,
     "metadata": {},
     "output_type": "execute_result"
    }
   ],
   "source": [
    "data[\"Outcome\"]"
   ]
  },
  {
   "cell_type": "code",
   "execution_count": 94,
   "metadata": {
    "execution": {
     "iopub.execute_input": "2022-10-15T05:12:06.525494Z",
     "iopub.status.busy": "2022-10-15T05:12:06.525049Z",
     "iopub.status.idle": "2022-10-15T05:12:06.53884Z",
     "shell.execute_reply": "2022-10-15T05:12:06.537244Z",
     "shell.execute_reply.started": "2022-10-15T05:12:06.525449Z"
    },
    "id": "Ye9_oE13xTDd",
    "outputId": "9a3c0fba-9a13-4372-d574-6ff90b42ab6c"
   },
   "outputs": [
    {
     "data": {
      "text/plain": [
       "<Figure size 288x288 with 0 Axes>"
      ]
     },
     "execution_count": 94,
     "metadata": {},
     "output_type": "execute_result"
    },
    {
     "data": {
      "text/plain": [
       "<Figure size 288x288 with 0 Axes>"
      ]
     },
     "metadata": {},
     "output_type": "display_data"
    }
   ],
   "source": [
    "plt.figure(figsize=(4,4))"
   ]
  },
  {
   "cell_type": "code",
   "execution_count": 95,
   "metadata": {
    "execution": {
     "iopub.execute_input": "2022-10-15T05:12:06.541124Z",
     "iopub.status.busy": "2022-10-15T05:12:06.540642Z",
     "iopub.status.idle": "2022-10-15T05:12:06.626077Z",
     "shell.execute_reply": "2022-10-15T05:12:06.624783Z",
     "shell.execute_reply.started": "2022-10-15T05:12:06.54108Z"
    },
    "id": "289m9e-L1yq4",
    "outputId": "56f3252c-49e9-4983-9b0a-63417ec71fec"
   },
   "outputs": [
    {
     "data": {
      "application/vnd.plotly.v1+json": {
       "config": {
        "plotlyServerURL": "https://plot.ly"
       },
       "data": [
        {
         "alignmentgroup": "True",
         "hovertemplate": "variable=Age<br>index=%{x}<br>value=%{y}<extra></extra>",
         "legendgroup": "Age",
         "marker": {
          "color": "#636efa",
          "pattern": {
           "shape": ""
          }
         },
         "name": "Age",
         "offsetgroup": "Age",
         "orientation": "v",
         "showlegend": true,
         "textposition": "auto",
         "type": "bar",
         "x": [
          22,
          21,
          25,
          24,
          23,
          28,
          26,
          27,
          29,
          31,
          41,
          30,
          37,
          42,
          33,
          38,
          36,
          32,
          45,
          34,
          46,
          43,
          40,
          39,
          35,
          50,
          51,
          52,
          44,
          58,
          47,
          54,
          49,
          48,
          57,
          53,
          60,
          66,
          63,
          62,
          55,
          67,
          56,
          59,
          65,
          69,
          61,
          72,
          81,
          64,
          70,
          68
         ],
         "xaxis": "x",
         "y": [
          72,
          63,
          48,
          46,
          38,
          35,
          33,
          32,
          29,
          24,
          22,
          21,
          19,
          18,
          17,
          16,
          16,
          16,
          15,
          14,
          13,
          13,
          13,
          12,
          10,
          8,
          8,
          8,
          8,
          7,
          6,
          6,
          5,
          5,
          5,
          5,
          5,
          4,
          4,
          4,
          4,
          3,
          3,
          3,
          3,
          2,
          2,
          1,
          1,
          1,
          1,
          1
         ],
         "yaxis": "y"
        }
       ],
       "layout": {
        "barmode": "relative",
        "height": 400,
        "legend": {
         "title": {
          "text": "variable"
         },
         "tracegroupgap": 0
        },
        "margin": {
         "t": 60
        },
        "template": {
         "data": {
          "bar": [
           {
            "error_x": {
             "color": "#2a3f5f"
            },
            "error_y": {
             "color": "#2a3f5f"
            },
            "marker": {
             "line": {
              "color": "#E5ECF6",
              "width": 0.5
             },
             "pattern": {
              "fillmode": "overlay",
              "size": 10,
              "solidity": 0.2
             }
            },
            "type": "bar"
           }
          ],
          "barpolar": [
           {
            "marker": {
             "line": {
              "color": "#E5ECF6",
              "width": 0.5
             },
             "pattern": {
              "fillmode": "overlay",
              "size": 10,
              "solidity": 0.2
             }
            },
            "type": "barpolar"
           }
          ],
          "carpet": [
           {
            "aaxis": {
             "endlinecolor": "#2a3f5f",
             "gridcolor": "white",
             "linecolor": "white",
             "minorgridcolor": "white",
             "startlinecolor": "#2a3f5f"
            },
            "baxis": {
             "endlinecolor": "#2a3f5f",
             "gridcolor": "white",
             "linecolor": "white",
             "minorgridcolor": "white",
             "startlinecolor": "#2a3f5f"
            },
            "type": "carpet"
           }
          ],
          "choropleth": [
           {
            "colorbar": {
             "outlinewidth": 0,
             "ticks": ""
            },
            "type": "choropleth"
           }
          ],
          "contour": [
           {
            "colorbar": {
             "outlinewidth": 0,
             "ticks": ""
            },
            "colorscale": [
             [
              0,
              "#0d0887"
             ],
             [
              0.1111111111111111,
              "#46039f"
             ],
             [
              0.2222222222222222,
              "#7201a8"
             ],
             [
              0.3333333333333333,
              "#9c179e"
             ],
             [
              0.4444444444444444,
              "#bd3786"
             ],
             [
              0.5555555555555556,
              "#d8576b"
             ],
             [
              0.6666666666666666,
              "#ed7953"
             ],
             [
              0.7777777777777778,
              "#fb9f3a"
             ],
             [
              0.8888888888888888,
              "#fdca26"
             ],
             [
              1,
              "#f0f921"
             ]
            ],
            "type": "contour"
           }
          ],
          "contourcarpet": [
           {
            "colorbar": {
             "outlinewidth": 0,
             "ticks": ""
            },
            "type": "contourcarpet"
           }
          ],
          "heatmap": [
           {
            "colorbar": {
             "outlinewidth": 0,
             "ticks": ""
            },
            "colorscale": [
             [
              0,
              "#0d0887"
             ],
             [
              0.1111111111111111,
              "#46039f"
             ],
             [
              0.2222222222222222,
              "#7201a8"
             ],
             [
              0.3333333333333333,
              "#9c179e"
             ],
             [
              0.4444444444444444,
              "#bd3786"
             ],
             [
              0.5555555555555556,
              "#d8576b"
             ],
             [
              0.6666666666666666,
              "#ed7953"
             ],
             [
              0.7777777777777778,
              "#fb9f3a"
             ],
             [
              0.8888888888888888,
              "#fdca26"
             ],
             [
              1,
              "#f0f921"
             ]
            ],
            "type": "heatmap"
           }
          ],
          "heatmapgl": [
           {
            "colorbar": {
             "outlinewidth": 0,
             "ticks": ""
            },
            "colorscale": [
             [
              0,
              "#0d0887"
             ],
             [
              0.1111111111111111,
              "#46039f"
             ],
             [
              0.2222222222222222,
              "#7201a8"
             ],
             [
              0.3333333333333333,
              "#9c179e"
             ],
             [
              0.4444444444444444,
              "#bd3786"
             ],
             [
              0.5555555555555556,
              "#d8576b"
             ],
             [
              0.6666666666666666,
              "#ed7953"
             ],
             [
              0.7777777777777778,
              "#fb9f3a"
             ],
             [
              0.8888888888888888,
              "#fdca26"
             ],
             [
              1,
              "#f0f921"
             ]
            ],
            "type": "heatmapgl"
           }
          ],
          "histogram": [
           {
            "marker": {
             "pattern": {
              "fillmode": "overlay",
              "size": 10,
              "solidity": 0.2
             }
            },
            "type": "histogram"
           }
          ],
          "histogram2d": [
           {
            "colorbar": {
             "outlinewidth": 0,
             "ticks": ""
            },
            "colorscale": [
             [
              0,
              "#0d0887"
             ],
             [
              0.1111111111111111,
              "#46039f"
             ],
             [
              0.2222222222222222,
              "#7201a8"
             ],
             [
              0.3333333333333333,
              "#9c179e"
             ],
             [
              0.4444444444444444,
              "#bd3786"
             ],
             [
              0.5555555555555556,
              "#d8576b"
             ],
             [
              0.6666666666666666,
              "#ed7953"
             ],
             [
              0.7777777777777778,
              "#fb9f3a"
             ],
             [
              0.8888888888888888,
              "#fdca26"
             ],
             [
              1,
              "#f0f921"
             ]
            ],
            "type": "histogram2d"
           }
          ],
          "histogram2dcontour": [
           {
            "colorbar": {
             "outlinewidth": 0,
             "ticks": ""
            },
            "colorscale": [
             [
              0,
              "#0d0887"
             ],
             [
              0.1111111111111111,
              "#46039f"
             ],
             [
              0.2222222222222222,
              "#7201a8"
             ],
             [
              0.3333333333333333,
              "#9c179e"
             ],
             [
              0.4444444444444444,
              "#bd3786"
             ],
             [
              0.5555555555555556,
              "#d8576b"
             ],
             [
              0.6666666666666666,
              "#ed7953"
             ],
             [
              0.7777777777777778,
              "#fb9f3a"
             ],
             [
              0.8888888888888888,
              "#fdca26"
             ],
             [
              1,
              "#f0f921"
             ]
            ],
            "type": "histogram2dcontour"
           }
          ],
          "mesh3d": [
           {
            "colorbar": {
             "outlinewidth": 0,
             "ticks": ""
            },
            "type": "mesh3d"
           }
          ],
          "parcoords": [
           {
            "line": {
             "colorbar": {
              "outlinewidth": 0,
              "ticks": ""
             }
            },
            "type": "parcoords"
           }
          ],
          "pie": [
           {
            "automargin": true,
            "type": "pie"
           }
          ],
          "scatter": [
           {
            "fillpattern": {
             "fillmode": "overlay",
             "size": 10,
             "solidity": 0.2
            },
            "type": "scatter"
           }
          ],
          "scatter3d": [
           {
            "line": {
             "colorbar": {
              "outlinewidth": 0,
              "ticks": ""
             }
            },
            "marker": {
             "colorbar": {
              "outlinewidth": 0,
              "ticks": ""
             }
            },
            "type": "scatter3d"
           }
          ],
          "scattercarpet": [
           {
            "marker": {
             "colorbar": {
              "outlinewidth": 0,
              "ticks": ""
             }
            },
            "type": "scattercarpet"
           }
          ],
          "scattergeo": [
           {
            "marker": {
             "colorbar": {
              "outlinewidth": 0,
              "ticks": ""
             }
            },
            "type": "scattergeo"
           }
          ],
          "scattergl": [
           {
            "marker": {
             "colorbar": {
              "outlinewidth": 0,
              "ticks": ""
             }
            },
            "type": "scattergl"
           }
          ],
          "scattermapbox": [
           {
            "marker": {
             "colorbar": {
              "outlinewidth": 0,
              "ticks": ""
             }
            },
            "type": "scattermapbox"
           }
          ],
          "scatterpolar": [
           {
            "marker": {
             "colorbar": {
              "outlinewidth": 0,
              "ticks": ""
             }
            },
            "type": "scatterpolar"
           }
          ],
          "scatterpolargl": [
           {
            "marker": {
             "colorbar": {
              "outlinewidth": 0,
              "ticks": ""
             }
            },
            "type": "scatterpolargl"
           }
          ],
          "scatterternary": [
           {
            "marker": {
             "colorbar": {
              "outlinewidth": 0,
              "ticks": ""
             }
            },
            "type": "scatterternary"
           }
          ],
          "surface": [
           {
            "colorbar": {
             "outlinewidth": 0,
             "ticks": ""
            },
            "colorscale": [
             [
              0,
              "#0d0887"
             ],
             [
              0.1111111111111111,
              "#46039f"
             ],
             [
              0.2222222222222222,
              "#7201a8"
             ],
             [
              0.3333333333333333,
              "#9c179e"
             ],
             [
              0.4444444444444444,
              "#bd3786"
             ],
             [
              0.5555555555555556,
              "#d8576b"
             ],
             [
              0.6666666666666666,
              "#ed7953"
             ],
             [
              0.7777777777777778,
              "#fb9f3a"
             ],
             [
              0.8888888888888888,
              "#fdca26"
             ],
             [
              1,
              "#f0f921"
             ]
            ],
            "type": "surface"
           }
          ],
          "table": [
           {
            "cells": {
             "fill": {
              "color": "#EBF0F8"
             },
             "line": {
              "color": "white"
             }
            },
            "header": {
             "fill": {
              "color": "#C8D4E3"
             },
             "line": {
              "color": "white"
             }
            },
            "type": "table"
           }
          ]
         },
         "layout": {
          "annotationdefaults": {
           "arrowcolor": "#2a3f5f",
           "arrowhead": 0,
           "arrowwidth": 1
          },
          "autotypenumbers": "strict",
          "coloraxis": {
           "colorbar": {
            "outlinewidth": 0,
            "ticks": ""
           }
          },
          "colorscale": {
           "diverging": [
            [
             0,
             "#8e0152"
            ],
            [
             0.1,
             "#c51b7d"
            ],
            [
             0.2,
             "#de77ae"
            ],
            [
             0.3,
             "#f1b6da"
            ],
            [
             0.4,
             "#fde0ef"
            ],
            [
             0.5,
             "#f7f7f7"
            ],
            [
             0.6,
             "#e6f5d0"
            ],
            [
             0.7,
             "#b8e186"
            ],
            [
             0.8,
             "#7fbc41"
            ],
            [
             0.9,
             "#4d9221"
            ],
            [
             1,
             "#276419"
            ]
           ],
           "sequential": [
            [
             0,
             "#0d0887"
            ],
            [
             0.1111111111111111,
             "#46039f"
            ],
            [
             0.2222222222222222,
             "#7201a8"
            ],
            [
             0.3333333333333333,
             "#9c179e"
            ],
            [
             0.4444444444444444,
             "#bd3786"
            ],
            [
             0.5555555555555556,
             "#d8576b"
            ],
            [
             0.6666666666666666,
             "#ed7953"
            ],
            [
             0.7777777777777778,
             "#fb9f3a"
            ],
            [
             0.8888888888888888,
             "#fdca26"
            ],
            [
             1,
             "#f0f921"
            ]
           ],
           "sequentialminus": [
            [
             0,
             "#0d0887"
            ],
            [
             0.1111111111111111,
             "#46039f"
            ],
            [
             0.2222222222222222,
             "#7201a8"
            ],
            [
             0.3333333333333333,
             "#9c179e"
            ],
            [
             0.4444444444444444,
             "#bd3786"
            ],
            [
             0.5555555555555556,
             "#d8576b"
            ],
            [
             0.6666666666666666,
             "#ed7953"
            ],
            [
             0.7777777777777778,
             "#fb9f3a"
            ],
            [
             0.8888888888888888,
             "#fdca26"
            ],
            [
             1,
             "#f0f921"
            ]
           ]
          },
          "colorway": [
           "#636efa",
           "#EF553B",
           "#00cc96",
           "#ab63fa",
           "#FFA15A",
           "#19d3f3",
           "#FF6692",
           "#B6E880",
           "#FF97FF",
           "#FECB52"
          ],
          "font": {
           "color": "#2a3f5f"
          },
          "geo": {
           "bgcolor": "white",
           "lakecolor": "white",
           "landcolor": "#E5ECF6",
           "showlakes": true,
           "showland": true,
           "subunitcolor": "white"
          },
          "hoverlabel": {
           "align": "left"
          },
          "hovermode": "closest",
          "mapbox": {
           "style": "light"
          },
          "paper_bgcolor": "white",
          "plot_bgcolor": "#E5ECF6",
          "polar": {
           "angularaxis": {
            "gridcolor": "white",
            "linecolor": "white",
            "ticks": ""
           },
           "bgcolor": "#E5ECF6",
           "radialaxis": {
            "gridcolor": "white",
            "linecolor": "white",
            "ticks": ""
           }
          },
          "scene": {
           "xaxis": {
            "backgroundcolor": "#E5ECF6",
            "gridcolor": "white",
            "gridwidth": 2,
            "linecolor": "white",
            "showbackground": true,
            "ticks": "",
            "zerolinecolor": "white"
           },
           "yaxis": {
            "backgroundcolor": "#E5ECF6",
            "gridcolor": "white",
            "gridwidth": 2,
            "linecolor": "white",
            "showbackground": true,
            "ticks": "",
            "zerolinecolor": "white"
           },
           "zaxis": {
            "backgroundcolor": "#E5ECF6",
            "gridcolor": "white",
            "gridwidth": 2,
            "linecolor": "white",
            "showbackground": true,
            "ticks": "",
            "zerolinecolor": "white"
           }
          },
          "shapedefaults": {
           "line": {
            "color": "#2a3f5f"
           }
          },
          "ternary": {
           "aaxis": {
            "gridcolor": "white",
            "linecolor": "white",
            "ticks": ""
           },
           "baxis": {
            "gridcolor": "white",
            "linecolor": "white",
            "ticks": ""
           },
           "bgcolor": "#E5ECF6",
           "caxis": {
            "gridcolor": "white",
            "linecolor": "white",
            "ticks": ""
           }
          },
          "title": {
           "x": 0.05
          },
          "xaxis": {
           "automargin": true,
           "gridcolor": "white",
           "linecolor": "white",
           "ticks": "",
           "title": {
            "standoff": 15
           },
           "zerolinecolor": "white",
           "zerolinewidth": 2
          },
          "yaxis": {
           "automargin": true,
           "gridcolor": "white",
           "linecolor": "white",
           "ticks": "",
           "title": {
            "standoff": 15
           },
           "zerolinecolor": "white",
           "zerolinewidth": 2
          }
         }
        },
        "width": 700,
        "xaxis": {
         "anchor": "y",
         "domain": [
          0,
          1
         ],
         "title": {
          "text": "index"
         }
        },
        "yaxis": {
         "anchor": "x",
         "domain": [
          0,
          1
         ],
         "title": {
          "text": "value"
         }
        }
       }
      },
      "text/html": [
       "<div>                            <div id=\"9630f5eb-6bae-4dd1-93d9-ced424282823\" class=\"plotly-graph-div\" style=\"height:400px; width:700px;\"></div>            <script type=\"text/javascript\">                require([\"plotly\"], function(Plotly) {                    window.PLOTLYENV=window.PLOTLYENV || {};                                    if (document.getElementById(\"9630f5eb-6bae-4dd1-93d9-ced424282823\")) {                    Plotly.newPlot(                        \"9630f5eb-6bae-4dd1-93d9-ced424282823\",                        [{\"alignmentgroup\":\"True\",\"hovertemplate\":\"variable=Age<br>index=%{x}<br>value=%{y}<extra></extra>\",\"legendgroup\":\"Age\",\"marker\":{\"color\":\"#636efa\",\"pattern\":{\"shape\":\"\"}},\"name\":\"Age\",\"offsetgroup\":\"Age\",\"orientation\":\"v\",\"showlegend\":true,\"textposition\":\"auto\",\"x\":[22,21,25,24,23,28,26,27,29,31,41,30,37,42,33,38,36,32,45,34,46,43,40,39,35,50,51,52,44,58,47,54,49,48,57,53,60,66,63,62,55,67,56,59,65,69,61,72,81,64,70,68],\"xaxis\":\"x\",\"y\":[72,63,48,46,38,35,33,32,29,24,22,21,19,18,17,16,16,16,15,14,13,13,13,12,10,8,8,8,8,7,6,6,5,5,5,5,5,4,4,4,4,3,3,3,3,2,2,1,1,1,1,1],\"yaxis\":\"y\",\"type\":\"bar\"}],                        {\"template\":{\"data\":{\"histogram2dcontour\":[{\"type\":\"histogram2dcontour\",\"colorbar\":{\"outlinewidth\":0,\"ticks\":\"\"},\"colorscale\":[[0.0,\"#0d0887\"],[0.1111111111111111,\"#46039f\"],[0.2222222222222222,\"#7201a8\"],[0.3333333333333333,\"#9c179e\"],[0.4444444444444444,\"#bd3786\"],[0.5555555555555556,\"#d8576b\"],[0.6666666666666666,\"#ed7953\"],[0.7777777777777778,\"#fb9f3a\"],[0.8888888888888888,\"#fdca26\"],[1.0,\"#f0f921\"]]}],\"choropleth\":[{\"type\":\"choropleth\",\"colorbar\":{\"outlinewidth\":0,\"ticks\":\"\"}}],\"histogram2d\":[{\"type\":\"histogram2d\",\"colorbar\":{\"outlinewidth\":0,\"ticks\":\"\"},\"colorscale\":[[0.0,\"#0d0887\"],[0.1111111111111111,\"#46039f\"],[0.2222222222222222,\"#7201a8\"],[0.3333333333333333,\"#9c179e\"],[0.4444444444444444,\"#bd3786\"],[0.5555555555555556,\"#d8576b\"],[0.6666666666666666,\"#ed7953\"],[0.7777777777777778,\"#fb9f3a\"],[0.8888888888888888,\"#fdca26\"],[1.0,\"#f0f921\"]]}],\"heatmap\":[{\"type\":\"heatmap\",\"colorbar\":{\"outlinewidth\":0,\"ticks\":\"\"},\"colorscale\":[[0.0,\"#0d0887\"],[0.1111111111111111,\"#46039f\"],[0.2222222222222222,\"#7201a8\"],[0.3333333333333333,\"#9c179e\"],[0.4444444444444444,\"#bd3786\"],[0.5555555555555556,\"#d8576b\"],[0.6666666666666666,\"#ed7953\"],[0.7777777777777778,\"#fb9f3a\"],[0.8888888888888888,\"#fdca26\"],[1.0,\"#f0f921\"]]}],\"heatmapgl\":[{\"type\":\"heatmapgl\",\"colorbar\":{\"outlinewidth\":0,\"ticks\":\"\"},\"colorscale\":[[0.0,\"#0d0887\"],[0.1111111111111111,\"#46039f\"],[0.2222222222222222,\"#7201a8\"],[0.3333333333333333,\"#9c179e\"],[0.4444444444444444,\"#bd3786\"],[0.5555555555555556,\"#d8576b\"],[0.6666666666666666,\"#ed7953\"],[0.7777777777777778,\"#fb9f3a\"],[0.8888888888888888,\"#fdca26\"],[1.0,\"#f0f921\"]]}],\"contourcarpet\":[{\"type\":\"contourcarpet\",\"colorbar\":{\"outlinewidth\":0,\"ticks\":\"\"}}],\"contour\":[{\"type\":\"contour\",\"colorbar\":{\"outlinewidth\":0,\"ticks\":\"\"},\"colorscale\":[[0.0,\"#0d0887\"],[0.1111111111111111,\"#46039f\"],[0.2222222222222222,\"#7201a8\"],[0.3333333333333333,\"#9c179e\"],[0.4444444444444444,\"#bd3786\"],[0.5555555555555556,\"#d8576b\"],[0.6666666666666666,\"#ed7953\"],[0.7777777777777778,\"#fb9f3a\"],[0.8888888888888888,\"#fdca26\"],[1.0,\"#f0f921\"]]}],\"surface\":[{\"type\":\"surface\",\"colorbar\":{\"outlinewidth\":0,\"ticks\":\"\"},\"colorscale\":[[0.0,\"#0d0887\"],[0.1111111111111111,\"#46039f\"],[0.2222222222222222,\"#7201a8\"],[0.3333333333333333,\"#9c179e\"],[0.4444444444444444,\"#bd3786\"],[0.5555555555555556,\"#d8576b\"],[0.6666666666666666,\"#ed7953\"],[0.7777777777777778,\"#fb9f3a\"],[0.8888888888888888,\"#fdca26\"],[1.0,\"#f0f921\"]]}],\"mesh3d\":[{\"type\":\"mesh3d\",\"colorbar\":{\"outlinewidth\":0,\"ticks\":\"\"}}],\"scatter\":[{\"fillpattern\":{\"fillmode\":\"overlay\",\"size\":10,\"solidity\":0.2},\"type\":\"scatter\"}],\"parcoords\":[{\"type\":\"parcoords\",\"line\":{\"colorbar\":{\"outlinewidth\":0,\"ticks\":\"\"}}}],\"scatterpolargl\":[{\"type\":\"scatterpolargl\",\"marker\":{\"colorbar\":{\"outlinewidth\":0,\"ticks\":\"\"}}}],\"bar\":[{\"error_x\":{\"color\":\"#2a3f5f\"},\"error_y\":{\"color\":\"#2a3f5f\"},\"marker\":{\"line\":{\"color\":\"#E5ECF6\",\"width\":0.5},\"pattern\":{\"fillmode\":\"overlay\",\"size\":10,\"solidity\":0.2}},\"type\":\"bar\"}],\"scattergeo\":[{\"type\":\"scattergeo\",\"marker\":{\"colorbar\":{\"outlinewidth\":0,\"ticks\":\"\"}}}],\"scatterpolar\":[{\"type\":\"scatterpolar\",\"marker\":{\"colorbar\":{\"outlinewidth\":0,\"ticks\":\"\"}}}],\"histogram\":[{\"marker\":{\"pattern\":{\"fillmode\":\"overlay\",\"size\":10,\"solidity\":0.2}},\"type\":\"histogram\"}],\"scattergl\":[{\"type\":\"scattergl\",\"marker\":{\"colorbar\":{\"outlinewidth\":0,\"ticks\":\"\"}}}],\"scatter3d\":[{\"type\":\"scatter3d\",\"line\":{\"colorbar\":{\"outlinewidth\":0,\"ticks\":\"\"}},\"marker\":{\"colorbar\":{\"outlinewidth\":0,\"ticks\":\"\"}}}],\"scattermapbox\":[{\"type\":\"scattermapbox\",\"marker\":{\"colorbar\":{\"outlinewidth\":0,\"ticks\":\"\"}}}],\"scatterternary\":[{\"type\":\"scatterternary\",\"marker\":{\"colorbar\":{\"outlinewidth\":0,\"ticks\":\"\"}}}],\"scattercarpet\":[{\"type\":\"scattercarpet\",\"marker\":{\"colorbar\":{\"outlinewidth\":0,\"ticks\":\"\"}}}],\"carpet\":[{\"aaxis\":{\"endlinecolor\":\"#2a3f5f\",\"gridcolor\":\"white\",\"linecolor\":\"white\",\"minorgridcolor\":\"white\",\"startlinecolor\":\"#2a3f5f\"},\"baxis\":{\"endlinecolor\":\"#2a3f5f\",\"gridcolor\":\"white\",\"linecolor\":\"white\",\"minorgridcolor\":\"white\",\"startlinecolor\":\"#2a3f5f\"},\"type\":\"carpet\"}],\"table\":[{\"cells\":{\"fill\":{\"color\":\"#EBF0F8\"},\"line\":{\"color\":\"white\"}},\"header\":{\"fill\":{\"color\":\"#C8D4E3\"},\"line\":{\"color\":\"white\"}},\"type\":\"table\"}],\"barpolar\":[{\"marker\":{\"line\":{\"color\":\"#E5ECF6\",\"width\":0.5},\"pattern\":{\"fillmode\":\"overlay\",\"size\":10,\"solidity\":0.2}},\"type\":\"barpolar\"}],\"pie\":[{\"automargin\":true,\"type\":\"pie\"}]},\"layout\":{\"autotypenumbers\":\"strict\",\"colorway\":[\"#636efa\",\"#EF553B\",\"#00cc96\",\"#ab63fa\",\"#FFA15A\",\"#19d3f3\",\"#FF6692\",\"#B6E880\",\"#FF97FF\",\"#FECB52\"],\"font\":{\"color\":\"#2a3f5f\"},\"hovermode\":\"closest\",\"hoverlabel\":{\"align\":\"left\"},\"paper_bgcolor\":\"white\",\"plot_bgcolor\":\"#E5ECF6\",\"polar\":{\"bgcolor\":\"#E5ECF6\",\"angularaxis\":{\"gridcolor\":\"white\",\"linecolor\":\"white\",\"ticks\":\"\"},\"radialaxis\":{\"gridcolor\":\"white\",\"linecolor\":\"white\",\"ticks\":\"\"}},\"ternary\":{\"bgcolor\":\"#E5ECF6\",\"aaxis\":{\"gridcolor\":\"white\",\"linecolor\":\"white\",\"ticks\":\"\"},\"baxis\":{\"gridcolor\":\"white\",\"linecolor\":\"white\",\"ticks\":\"\"},\"caxis\":{\"gridcolor\":\"white\",\"linecolor\":\"white\",\"ticks\":\"\"}},\"coloraxis\":{\"colorbar\":{\"outlinewidth\":0,\"ticks\":\"\"}},\"colorscale\":{\"sequential\":[[0.0,\"#0d0887\"],[0.1111111111111111,\"#46039f\"],[0.2222222222222222,\"#7201a8\"],[0.3333333333333333,\"#9c179e\"],[0.4444444444444444,\"#bd3786\"],[0.5555555555555556,\"#d8576b\"],[0.6666666666666666,\"#ed7953\"],[0.7777777777777778,\"#fb9f3a\"],[0.8888888888888888,\"#fdca26\"],[1.0,\"#f0f921\"]],\"sequentialminus\":[[0.0,\"#0d0887\"],[0.1111111111111111,\"#46039f\"],[0.2222222222222222,\"#7201a8\"],[0.3333333333333333,\"#9c179e\"],[0.4444444444444444,\"#bd3786\"],[0.5555555555555556,\"#d8576b\"],[0.6666666666666666,\"#ed7953\"],[0.7777777777777778,\"#fb9f3a\"],[0.8888888888888888,\"#fdca26\"],[1.0,\"#f0f921\"]],\"diverging\":[[0,\"#8e0152\"],[0.1,\"#c51b7d\"],[0.2,\"#de77ae\"],[0.3,\"#f1b6da\"],[0.4,\"#fde0ef\"],[0.5,\"#f7f7f7\"],[0.6,\"#e6f5d0\"],[0.7,\"#b8e186\"],[0.8,\"#7fbc41\"],[0.9,\"#4d9221\"],[1,\"#276419\"]]},\"xaxis\":{\"gridcolor\":\"white\",\"linecolor\":\"white\",\"ticks\":\"\",\"title\":{\"standoff\":15},\"zerolinecolor\":\"white\",\"automargin\":true,\"zerolinewidth\":2},\"yaxis\":{\"gridcolor\":\"white\",\"linecolor\":\"white\",\"ticks\":\"\",\"title\":{\"standoff\":15},\"zerolinecolor\":\"white\",\"automargin\":true,\"zerolinewidth\":2},\"scene\":{\"xaxis\":{\"backgroundcolor\":\"#E5ECF6\",\"gridcolor\":\"white\",\"linecolor\":\"white\",\"showbackground\":true,\"ticks\":\"\",\"zerolinecolor\":\"white\",\"gridwidth\":2},\"yaxis\":{\"backgroundcolor\":\"#E5ECF6\",\"gridcolor\":\"white\",\"linecolor\":\"white\",\"showbackground\":true,\"ticks\":\"\",\"zerolinecolor\":\"white\",\"gridwidth\":2},\"zaxis\":{\"backgroundcolor\":\"#E5ECF6\",\"gridcolor\":\"white\",\"linecolor\":\"white\",\"showbackground\":true,\"ticks\":\"\",\"zerolinecolor\":\"white\",\"gridwidth\":2}},\"shapedefaults\":{\"line\":{\"color\":\"#2a3f5f\"}},\"annotationdefaults\":{\"arrowcolor\":\"#2a3f5f\",\"arrowhead\":0,\"arrowwidth\":1},\"geo\":{\"bgcolor\":\"white\",\"landcolor\":\"#E5ECF6\",\"subunitcolor\":\"white\",\"showland\":true,\"showlakes\":true,\"lakecolor\":\"white\"},\"title\":{\"x\":0.05},\"mapbox\":{\"style\":\"light\"}}},\"xaxis\":{\"anchor\":\"y\",\"domain\":[0.0,1.0],\"title\":{\"text\":\"index\"}},\"yaxis\":{\"anchor\":\"x\",\"domain\":[0.0,1.0],\"title\":{\"text\":\"value\"}},\"legend\":{\"title\":{\"text\":\"variable\"},\"tracegroupgap\":0},\"margin\":{\"t\":60},\"barmode\":\"relative\",\"height\":400,\"width\":700},                        {\"responsive\": true}                    ).then(function(){\n",
       "                            \n",
       "var gd = document.getElementById('9630f5eb-6bae-4dd1-93d9-ced424282823');\n",
       "var x = new MutationObserver(function (mutations, observer) {{\n",
       "        var display = window.getComputedStyle(gd).display;\n",
       "        if (!display || display === 'none') {{\n",
       "            console.log([gd, 'removed!']);\n",
       "            Plotly.purge(gd);\n",
       "            observer.disconnect();\n",
       "        }}\n",
       "}});\n",
       "\n",
       "// Listen for the removal of the full notebook cells\n",
       "var notebookContainer = gd.closest('#notebook-container');\n",
       "if (notebookContainer) {{\n",
       "    x.observe(notebookContainer, {childList: true});\n",
       "}}\n",
       "\n",
       "// Listen for the clearing of the current output cell\n",
       "var outputEl = gd.closest('.output');\n",
       "if (outputEl) {{\n",
       "    x.observe(outputEl, {childList: true});\n",
       "}}\n",
       "\n",
       "                        })                };                });            </script>        </div>"
      ]
     },
     "metadata": {},
     "output_type": "display_data"
    }
   ],
   "source": [
    "fig = px.bar(data['Age'].value_counts(), height=400, width = 700) \n",
    "fig.show()"
   ]
  },
  {
   "cell_type": "code",
   "execution_count": 75,
   "metadata": {
    "execution": {
     "iopub.execute_input": "2022-10-15T05:12:06.628851Z",
     "iopub.status.busy": "2022-10-15T05:12:06.628034Z",
     "iopub.status.idle": "2022-10-15T05:12:06.634106Z",
     "shell.execute_reply": "2022-10-15T05:12:06.63294Z",
     "shell.execute_reply.started": "2022-10-15T05:12:06.628802Z"
    },
    "id": "KcVPlU6E2MDc"
   },
   "outputs": [],
   "source": [
    "#data.plot(subplots =True, kind = 'box', layout = (4,5), figsize = (20,17), color = 'DarkRed')\n",
    "#plt.subplots_adjust(wspace = 0.3, hspace= 0.3)"
   ]
  },
  {
   "cell_type": "code",
   "execution_count": 96,
   "metadata": {
    "execution": {
     "iopub.execute_input": "2022-10-15T05:12:06.636718Z",
     "iopub.status.busy": "2022-10-15T05:12:06.635934Z",
     "iopub.status.idle": "2022-10-15T05:12:06.953185Z",
     "shell.execute_reply": "2022-10-15T05:12:06.951993Z",
     "shell.execute_reply.started": "2022-10-15T05:12:06.636646Z"
    },
    "id": "LMgJ7eZa4Qyv",
    "outputId": "7dd075b9-3acd-4aa5-8cfe-7b4d1f104912"
   },
   "outputs": [
    {
     "name": "stderr",
     "output_type": "stream",
     "text": [
      "/home/chriferob/desarrollo/dev_iaml/ml_env/lib/python3.8/site-packages/seaborn/distributions.py:2619: FutureWarning:\n",
      "\n",
      "`distplot` is a deprecated function and will be removed in a future version. Please adapt your code to use either `displot` (a figure-level function with similar flexibility) or `histplot` (an axes-level function for histograms).\n",
      "\n"
     ]
    },
    {
     "data": {
      "text/plain": [
       "<AxesSubplot:xlabel='Glucose', ylabel='Density'>"
      ]
     },
     "execution_count": 96,
     "metadata": {},
     "output_type": "execute_result"
    },
    {
     "data": {
      "image/png": "[encoded data removed]",
      "text/plain": [
       "<Figure size 432x288 with 1 Axes>"
      ]
     },
     "metadata": {
      "needs_background": "light"
     },
     "output_type": "display_data"
    }
   ],
   "source": [
    "sns.distplot(data['Glucose'],color =\"DarkSlateBlue\" )"
   ]
  },
  {
   "cell_type": "code",
   "execution_count": 77,
   "metadata": {
    "execution": {
     "iopub.execute_input": "2022-10-15T05:12:06.955891Z",
     "iopub.status.busy": "2022-10-15T05:12:06.955127Z",
     "iopub.status.idle": "2022-10-15T05:12:07.295295Z",
     "shell.execute_reply": "2022-10-15T05:12:07.294243Z",
     "shell.execute_reply.started": "2022-10-15T05:12:06.955844Z"
    },
    "id": "hZ9sgg6x4Q1j",
    "outputId": "33aa7451-e006-459f-de0e-0b6f0d65258b"
   },
   "outputs": [
    {
     "name": "stderr",
     "output_type": "stream",
     "text": [
      "/home/chriferob/desarrollo/dev_iaml/ml_env/lib/python3.8/site-packages/seaborn/distributions.py:2619: FutureWarning:\n",
      "\n",
      "`distplot` is a deprecated function and will be removed in a future version. Please adapt your code to use either `displot` (a figure-level function with similar flexibility) or `histplot` (an axes-level function for histograms).\n",
      "\n"
     ]
    },
    {
     "data": {
      "text/plain": [
       "<AxesSubplot:xlabel='BloodPressure', ylabel='Density'>"
      ]
     },
     "execution_count": 77,
     "metadata": {},
     "output_type": "execute_result"
    },
    {
     "data": {
      "image/png": "[encoded data removed]",
      "text/plain": [
       "<Figure size 432x288 with 1 Axes>"
      ]
     },
     "metadata": {
      "needs_background": "light"
     },
     "output_type": "display_data"
    }
   ],
   "source": [
    "sns.distplot(data['BloodPressure'], color = 'DarkKhaki')"
   ]
  },
  {
   "cell_type": "code",
   "execution_count": 97,
   "metadata": {
    "execution": {
     "iopub.execute_input": "2022-10-15T05:12:07.298272Z",
     "iopub.status.busy": "2022-10-15T05:12:07.297428Z",
     "iopub.status.idle": "2022-10-15T05:12:07.622953Z",
     "shell.execute_reply": "2022-10-15T05:12:07.621732Z",
     "shell.execute_reply.started": "2022-10-15T05:12:07.298222Z"
    },
    "id": "5cgJ0qeO4Q5W",
    "outputId": "69ec97a3-2e8f-4c57-be4e-29b5ddfec0a6"
   },
   "outputs": [
    {
     "name": "stderr",
     "output_type": "stream",
     "text": [
      "/home/chriferob/desarrollo/dev_iaml/ml_env/lib/python3.8/site-packages/seaborn/distributions.py:2619: FutureWarning:\n",
      "\n",
      "`distplot` is a deprecated function and will be removed in a future version. Please adapt your code to use either `displot` (a figure-level function with similar flexibility) or `histplot` (an axes-level function for histograms).\n",
      "\n"
     ]
    },
    {
     "data": {
      "text/plain": [
       "<AxesSubplot:xlabel='Insulin', ylabel='Density'>"
      ]
     },
     "execution_count": 97,
     "metadata": {},
     "output_type": "execute_result"
    },
    {
     "data": {
      "image/png": "[encoded data removed]",
      "text/plain": [
       "<Figure size 432x288 with 1 Axes>"
      ]
     },
     "metadata": {
      "needs_background": "light"
     },
     "output_type": "display_data"
    }
   ],
   "source": [
    "sns.distplot(data['Insulin'],color =\"DarkSeaGreen\" )"
   ]
  },
  {
   "cell_type": "markdown",
   "metadata": {
    "id": "EoXrLgPs96EP"
   },
   "source": [
    "### Split Data"
   ]
  },
  {
   "cell_type": "code",
   "execution_count": 106,
   "metadata": {
    "execution": {
     "iopub.execute_input": "2022-10-15T05:12:07.625571Z",
     "iopub.status.busy": "2022-10-15T05:12:07.624798Z",
     "iopub.status.idle": "2022-10-15T05:12:07.631374Z",
     "shell.execute_reply": "2022-10-15T05:12:07.630122Z",
     "shell.execute_reply.started": "2022-10-15T05:12:07.625524Z"
    },
    "id": "wRbp69Tl4Q9B"
   },
   "outputs": [],
   "source": [
    "from sklearn.model_selection import train_test_split"
   ]
  },
  {
   "cell_type": "code",
   "execution_count": 107,
   "metadata": {
    "execution": {
     "iopub.execute_input": "2022-10-15T05:12:07.634232Z",
     "iopub.status.busy": "2022-10-15T05:12:07.632931Z",
     "iopub.status.idle": "2022-10-15T05:12:07.646951Z",
     "shell.execute_reply": "2022-10-15T05:12:07.645805Z",
     "shell.execute_reply.started": "2022-10-15T05:12:07.634192Z"
    },
    "id": "TE73_tcv4RA6"
   },
   "outputs": [],
   "source": [
    "x = data.drop(['Outcome'] , axis = 1).values\n",
    "y = data['Outcome' ].values\n",
    "x_train , x_test , y_train , y_test = train_test_split(x,y , test_size= 0.2 , random_state=42)"
   ]
  },
  {
   "cell_type": "markdown",
   "metadata": {
    "id": "-sPK9xNI-HP5"
   },
   "source": [
    "### Scale data"
   ]
  },
  {
   "cell_type": "code",
   "execution_count": 108,
   "metadata": {
    "execution": {
     "iopub.execute_input": "2022-10-15T05:12:07.649475Z",
     "iopub.status.busy": "2022-10-15T05:12:07.648615Z",
     "iopub.status.idle": "2022-10-15T05:12:07.660531Z",
     "shell.execute_reply": "2022-10-15T05:12:07.659276Z",
     "shell.execute_reply.started": "2022-10-15T05:12:07.649427Z"
    },
    "id": "jlCuV8-D7u6S"
   },
   "outputs": [],
   "source": [
    "from sklearn.preprocessing import MinMaxScaler"
   ]
  },
  {
   "cell_type": "code",
   "execution_count": 109,
   "metadata": {
    "execution": {
     "iopub.execute_input": "2022-10-15T05:12:07.66362Z",
     "iopub.status.busy": "2022-10-15T05:12:07.662729Z",
     "iopub.status.idle": "2022-10-15T05:12:07.672239Z",
     "shell.execute_reply": "2022-10-15T05:12:07.670979Z",
     "shell.execute_reply.started": "2022-10-15T05:12:07.663572Z"
    },
    "id": "1E9i-gx57vCs"
   },
   "outputs": [],
   "source": [
    "scaler = MinMaxScaler()"
   ]
  },
  {
   "cell_type": "code",
   "execution_count": 110,
   "metadata": {
    "execution": {
     "iopub.execute_input": "2022-10-15T05:12:07.674388Z",
     "iopub.status.busy": "2022-10-15T05:12:07.673671Z",
     "iopub.status.idle": "2022-10-15T05:12:07.690733Z",
     "shell.execute_reply": "2022-10-15T05:12:07.689675Z",
     "shell.execute_reply.started": "2022-10-15T05:12:07.674348Z"
    },
    "id": "UTup4qTM70Op",
    "outputId": "fdce8285-6e63-4c73-a3db-f5ecbc83bcdc"
   },
   "outputs": [
    {
     "data": {
      "text/html": [
       "<style>#sk-container-id-5 {color: black;background-color: white;}#sk-container-id-5 pre{padding: 0;}#sk-container-id-5 div.sk-toggleable {background-color: white;}#sk-container-id-5 label.sk-toggleable__label {cursor: pointer;display: block;width: 100%;margin-bottom: 0;padding: 0.3em;box-sizing: border-box;text-align: center;}#sk-container-id-5 label.sk-toggleable__label-arrow:before {content: \"▸\";float: left;margin-right: 0.25em;color: #696969;}#sk-container-id-5 label.sk-toggleable__label-arrow:hover:before {color: black;}#sk-container-id-5 div.sk-estimator:hover label.sk-toggleable__label-arrow:before {color: black;}#sk-container-id-5 div.sk-toggleable__content {max-height: 0;max-width: 0;overflow: hidden;text-align: left;background-color: #f0f8ff;}#sk-container-id-5 div.sk-toggleable__content pre {margin: 0.2em;color: black;border-radius: 0.25em;background-color: #f0f8ff;}#sk-container-id-5 input.sk-toggleable__control:checked~div.sk-toggleable__content {max-height: 200px;max-width: 100%;overflow: auto;}#sk-container-id-5 input.sk-toggleable__control:checked~label.sk-toggleable__label-arrow:before {content: \"▾\";}#sk-container-id-5 div.sk-estimator input.sk-toggleable__control:checked~label.sk-toggleable__label {background-color: #d4ebff;}#sk-container-id-5 div.sk-label input.sk-toggleable__control:checked~label.sk-toggleable__label {background-color: #d4ebff;}#sk-container-id-5 input.sk-hidden--visually {border: 0;clip: rect(1px 1px 1px 1px);clip: rect(1px, 1px, 1px, 1px);height: 1px;margin: -1px;overflow: hidden;padding: 0;position: absolute;width: 1px;}#sk-container-id-5 div.sk-estimator {font-family: monospace;background-color: #f0f8ff;border: 1px dotted black;border-radius: 0.25em;box-sizing: border-box;margin-bottom: 0.5em;}#sk-container-id-5 div.sk-estimator:hover {background-color: #d4ebff;}#sk-container-id-5 div.sk-parallel-item::after {content: \"\";width: 100%;border-bottom: 1px solid gray;flex-grow: 1;}#sk-container-id-5 div.sk-label:hover label.sk-toggleable__label {background-color: #d4ebff;}#sk-container-id-5 div.sk-serial::before {content: \"\";position: absolute;border-left: 1px solid gray;box-sizing: border-box;top: 0;bottom: 0;left: 50%;z-index: 0;}#sk-container-id-5 div.sk-serial {display: flex;flex-direction: column;align-items: center;background-color: white;padding-right: 0.2em;padding-left: 0.2em;position: relative;}#sk-container-id-5 div.sk-item {position: relative;z-index: 1;}#sk-container-id-5 div.sk-parallel {display: flex;align-items: stretch;justify-content: center;background-color: white;position: relative;}#sk-container-id-5 div.sk-item::before, #sk-container-id-5 div.sk-parallel-item::before {content: \"\";position: absolute;border-left: 1px solid gray;box-sizing: border-box;top: 0;bottom: 0;left: 50%;z-index: -1;}#sk-container-id-5 div.sk-parallel-item {display: flex;flex-direction: column;z-index: 1;position: relative;background-color: white;}#sk-container-id-5 div.sk-parallel-item:first-child::after {align-self: flex-end;width: 50%;}#sk-container-id-5 div.sk-parallel-item:last-child::after {align-self: flex-start;width: 50%;}#sk-container-id-5 div.sk-parallel-item:only-child::after {width: 0;}#sk-container-id-5 div.sk-dashed-wrapped {border: 1px dashed gray;margin: 0 0.4em 0.5em 0.4em;box-sizing: border-box;padding-bottom: 0.4em;background-color: white;}#sk-container-id-5 div.sk-label label {font-family: monospace;font-weight: bold;display: inline-block;line-height: 1.2em;}#sk-container-id-5 div.sk-label-container {text-align: center;}#sk-container-id-5 div.sk-container {/* jupyter's `normalize.less` sets `[hidden] { display: none; }` but bootstrap.min.css set `[hidden] { display: none !important; }` so we also need the `!important` here to be able to override the default hidden behavior on the sphinx rendered scikit-learn.org. See: https://github.com/scikit-learn/scikit-learn/issues/21755 */display: inline-block !important;position: relative;}#sk-container-id-5 div.sk-text-repr-fallback {display: none;}</style><div id=\"sk-container-id-5\" class=\"sk-top-container\"><div class=\"sk-text-repr-fallback\"><pre>MinMaxScaler()</pre><b>In a Jupyter environment, please rerun this cell to show the HTML representation or trust the notebook. <br />On GitHub, the HTML representation is unable to render, please try loading this page with nbviewer.org.</b></div><div class=\"sk-container\" hidden><div class=\"sk-item\"><div class=\"sk-estimator sk-toggleable\"><input class=\"sk-toggleable__control sk-hidden--visually\" id=\"sk-estimator-id-5\" type=\"checkbox\" checked><label for=\"sk-estimator-id-5\" class=\"sk-toggleable__label sk-toggleable__label-arrow\">MinMaxScaler</label><div class=\"sk-toggleable__content\"><pre>MinMaxScaler()</pre></div></div></div></div></div>"
      ],
      "text/plain": [
       "MinMaxScaler()"
      ]
     },
     "execution_count": 110,
     "metadata": {},
     "output_type": "execute_result"
    }
   ],
   "source": [
    "scaler.fit(x_train)"
   ]
  },
  {
   "cell_type": "code",
   "execution_count": 111,
   "metadata": {
    "execution": {
     "iopub.execute_input": "2022-10-15T05:12:07.697784Z",
     "iopub.status.busy": "2022-10-15T05:12:07.697148Z",
     "iopub.status.idle": "2022-10-15T05:12:07.70926Z",
     "shell.execute_reply": "2022-10-15T05:12:07.708186Z",
     "shell.execute_reply.started": "2022-10-15T05:12:07.697736Z"
    },
    "id": "3hSIsIIO70S5"
   },
   "outputs": [],
   "source": [
    "x_train = scaler.transform(x_train)\n",
    "x_test = scaler.transform(x_test)"
   ]
  },
  {
   "cell_type": "code",
   "execution_count": 112,
   "metadata": {
    "execution": {
     "iopub.execute_input": "2022-10-15T05:12:07.711685Z",
     "iopub.status.busy": "2022-10-15T05:12:07.710869Z",
     "iopub.status.idle": "2022-10-15T05:12:07.729425Z",
     "shell.execute_reply": "2022-10-15T05:12:07.728399Z",
     "shell.execute_reply.started": "2022-10-15T05:12:07.71163Z"
    },
    "id": "AKAgbu-a70WO",
    "outputId": "f036704e-779d-49ed-d078-5dc5d72f39f8"
   },
   "outputs": [
    {
     "name": "stdout",
     "output_type": "stream",
     "text": [
      "x_train = 614 and y_train = (614,) \n",
      "x_test = 154 and y_test = (154,) \n"
     ]
    }
   ],
   "source": [
    "r, c = x_train.shape\n",
    "r2 ,c2 = x_test.shape\n",
    "print (f\"x_train = {r} and y_train = {y_train.shape} \")\n",
    "print (f\"x_test = {r2} and y_test = {y_test.shape} \")"
   ]
  },
  {
   "cell_type": "markdown",
   "metadata": {
    "id": "Y4sys9HK-TpB"
   },
   "source": [
    "### Create Model"
   ]
  },
  {
   "cell_type": "code",
   "execution_count": 115,
   "metadata": {
    "execution": {
     "iopub.execute_input": "2022-10-15T05:12:07.731874Z",
     "iopub.status.busy": "2022-10-15T05:12:07.730732Z",
     "iopub.status.idle": "2022-10-15T05:12:07.741345Z",
     "shell.execute_reply": "2022-10-15T05:12:07.740271Z",
     "shell.execute_reply.started": "2022-10-15T05:12:07.731827Z"
    },
    "id": "u3lNp3qo70cz"
   },
   "outputs": [
    {
     "name": "stderr",
     "output_type": "stream",
     "text": [
      "2022-10-29 11:38:41.128347: I tensorflow/core/platform/cpu_feature_guard.cc:193] This TensorFlow binary is optimized with oneAPI Deep Neural Network Library (oneDNN) to use the following CPU instructions in performance-critical operations:  AVX2 AVX512F AVX512_VNNI FMA\n",
      "To enable them in other operations, rebuild TensorFlow with the appropriate compiler flags.\n",
      "2022-10-29 11:38:41.266693: I tensorflow/core/util/util.cc:169] oneDNN custom operations are on. You may see slightly different numerical results due to floating-point round-off errors from different computation orders. To turn them off, set the environment variable `TF_ENABLE_ONEDNN_OPTS=0`.\n",
      "2022-10-29 11:38:41.270135: W tensorflow/stream_executor/platform/default/dso_loader.cc:64] Could not load dynamic library 'libcudart.so.11.0'; dlerror: libcudart.so.11.0: cannot open shared object file: No such file or directory\n",
      "2022-10-29 11:38:41.270145: I tensorflow/stream_executor/cuda/cudart_stub.cc:29] Ignore above cudart dlerror if you do not have a GPU set up on your machine.\n",
      "2022-10-29 11:38:41.291455: E tensorflow/stream_executor/cuda/cuda_blas.cc:2981] Unable to register cuBLAS factory: Attempting to register factory for plugin cuBLAS when one has already been registered\n",
      "2022-10-29 11:38:41.708247: W tensorflow/stream_executor/platform/default/dso_loader.cc:64] Could not load dynamic library 'libnvinfer.so.7'; dlerror: libnvinfer.so.7: cannot open shared object file: No such file or directory\n",
      "2022-10-29 11:38:41.708328: W tensorflow/stream_executor/platform/default/dso_loader.cc:64] Could not load dynamic library 'libnvinfer_plugin.so.7'; dlerror: libnvinfer_plugin.so.7: cannot open shared object file: No such file or directory\n",
      "2022-10-29 11:38:41.708333: W tensorflow/compiler/tf2tensorrt/utils/py_utils.cc:38] TF-TRT Warning: Cannot dlopen some TensorRT libraries. If you would like to use Nvidia GPU with TensorRT, please make sure the missing libraries mentioned above are installed properly.\n"
     ]
    }
   ],
   "source": [
    "import tensorflow as tf\n",
    "from tensorflow.keras.models import Sequential\n",
    "from tensorflow.keras.layers import Dense, Activation,Dropout\n",
    "from tensorflow.keras.optimizers import Adam"
   ]
  },
  {
   "cell_type": "code",
   "execution_count": 116,
   "metadata": {
    "execution": {
     "iopub.execute_input": "2022-10-15T05:12:07.743542Z",
     "iopub.status.busy": "2022-10-15T05:12:07.742829Z",
     "iopub.status.idle": "2022-10-15T05:12:07.823124Z",
     "shell.execute_reply": "2022-10-15T05:12:07.822205Z",
     "shell.execute_reply.started": "2022-10-15T05:12:07.743487Z"
    },
    "id": "qYSgnUxx70e1"
   },
   "outputs": [
    {
     "name": "stderr",
     "output_type": "stream",
     "text": [
      "2022-10-29 11:38:42.479609: W tensorflow/stream_executor/platform/default/dso_loader.cc:64] Could not load dynamic library 'libcuda.so.1'; dlerror: libcuda.so.1: cannot open shared object file: No such file or directory\n",
      "2022-10-29 11:38:42.479642: W tensorflow/stream_executor/cuda/cuda_driver.cc:263] failed call to cuInit: UNKNOWN ERROR (303)\n",
      "2022-10-29 11:38:42.479662: I tensorflow/stream_executor/cuda/cuda_diagnostics.cc:156] kernel driver does not appear to be running on this host (chriferob-ThinkPad-E15-Gen-2): /proc/driver/nvidia/version does not exist\n",
      "2022-10-29 11:38:42.480007: I tensorflow/core/platform/cpu_feature_guard.cc:193] This TensorFlow binary is optimized with oneAPI Deep Neural Network Library (oneDNN) to use the following CPU instructions in performance-critical operations:  AVX2 AVX512F AVX512_VNNI FMA\n",
      "To enable them in other operations, rebuild TensorFlow with the appropriate compiler flags.\n"
     ]
    }
   ],
   "source": [
    "model = Sequential()"
   ]
  },
  {
   "cell_type": "code",
   "execution_count": 117,
   "metadata": {
    "execution": {
     "iopub.execute_input": "2022-10-15T05:12:07.826985Z",
     "iopub.status.busy": "2022-10-15T05:12:07.826576Z",
     "iopub.status.idle": "2022-10-15T05:12:07.86278Z",
     "shell.execute_reply": "2022-10-15T05:12:07.86152Z",
     "shell.execute_reply.started": "2022-10-15T05:12:07.82695Z"
    },
    "id": "vfY5vRpW70hp"
   },
   "outputs": [],
   "source": [
    "\n",
    "model.add(Dense(20,activation='relu'))\n",
    "\n",
    "model.add(Dense(20,activation='relu'))\n",
    "\n",
    "model.add(Dense(1,activation='sigmoid'))\n",
    "\n",
    "model.compile(loss='binary_crossentropy', optimizer='adam', metrics = ['accuracy'])"
   ]
  },
  {
   "cell_type": "code",
   "execution_count": null,
   "metadata": {
    "id": "WoJK2LGTBgqF"
   },
   "outputs": [],
   "source": []
  },
  {
   "cell_type": "code",
   "execution_count": 118,
   "metadata": {
    "execution": {
     "iopub.execute_input": "2022-10-15T05:12:07.865598Z",
     "iopub.status.busy": "2022-10-15T05:12:07.864386Z",
     "iopub.status.idle": "2022-10-15T05:12:49.696103Z",
     "shell.execute_reply": "2022-10-15T05:12:49.694844Z",
     "shell.execute_reply.started": "2022-10-15T05:12:07.86555Z"
    },
    "id": "hameumpIBgta",
    "outputId": "f2416374-c6cb-490e-f1b2-871612565600"
   },
   "outputs": [
    {
     "name": "stdout",
     "output_type": "stream",
     "text": [
      "Epoch 1/200\n",
      "62/62 [==============================] - 0s 925us/step - loss: 0.6739 - accuracy: 0.6531\n",
      "Epoch 2/200\n",
      "62/62 [==============================] - 0s 1ms/step - loss: 0.6566 - accuracy: 0.6531\n",
      "Epoch 3/200\n",
      "62/62 [==============================] - 0s 1ms/step - loss: 0.6473 - accuracy: 0.6531\n",
      "Epoch 4/200\n",
      "62/62 [==============================] - 0s 979us/step - loss: 0.6334 - accuracy: 0.6531\n",
      "Epoch 5/200\n",
      "62/62 [==============================] - 0s 844us/step - loss: 0.6198 - accuracy: 0.6547\n",
      "Epoch 6/200\n",
      "62/62 [==============================] - 0s 1ms/step - loss: 0.6026 - accuracy: 0.6629\n",
      "Epoch 7/200\n",
      "62/62 [==============================] - 0s 865us/step - loss: 0.5857 - accuracy: 0.6938\n",
      "Epoch 8/200\n",
      "62/62 [==============================] - 0s 873us/step - loss: 0.5664 - accuracy: 0.7117\n",
      "Epoch 9/200\n",
      "62/62 [==============================] - 0s 921us/step - loss: 0.5561 - accuracy: 0.7068\n",
      "Epoch 10/200\n",
      "62/62 [==============================] - 0s 906us/step - loss: 0.5409 - accuracy: 0.7150\n",
      "Epoch 11/200\n",
      "62/62 [==============================] - 0s 918us/step - loss: 0.5249 - accuracy: 0.7378\n",
      "Epoch 12/200\n",
      "62/62 [==============================] - 0s 1ms/step - loss: 0.5226 - accuracy: 0.7329\n",
      "Epoch 13/200\n",
      "62/62 [==============================] - 0s 949us/step - loss: 0.5059 - accuracy: 0.7524\n",
      "Epoch 14/200\n",
      "62/62 [==============================] - 0s 819us/step - loss: 0.4984 - accuracy: 0.7476\n",
      "Epoch 15/200\n",
      "62/62 [==============================] - 0s 992us/step - loss: 0.4917 - accuracy: 0.7541\n",
      "Epoch 16/200\n",
      "62/62 [==============================] - 0s 918us/step - loss: 0.4856 - accuracy: 0.7590\n",
      "Epoch 17/200\n",
      "62/62 [==============================] - 0s 895us/step - loss: 0.4803 - accuracy: 0.7590\n",
      "Epoch 18/200\n",
      "62/62 [==============================] - 0s 881us/step - loss: 0.4773 - accuracy: 0.7638\n",
      "Epoch 19/200\n",
      "62/62 [==============================] - 0s 942us/step - loss: 0.4727 - accuracy: 0.7671\n",
      "Epoch 20/200\n",
      "62/62 [==============================] - 0s 1ms/step - loss: 0.4752 - accuracy: 0.7752\n",
      "Epoch 21/200\n",
      "62/62 [==============================] - 0s 915us/step - loss: 0.4655 - accuracy: 0.7801\n",
      "Epoch 22/200\n",
      "62/62 [==============================] - 0s 804us/step - loss: 0.4619 - accuracy: 0.7704\n",
      "Epoch 23/200\n",
      "62/62 [==============================] - 0s 853us/step - loss: 0.4673 - accuracy: 0.7638\n",
      "Epoch 24/200\n",
      "62/62 [==============================] - 0s 878us/step - loss: 0.4612 - accuracy: 0.7850\n",
      "Epoch 25/200\n",
      "62/62 [==============================] - 0s 893us/step - loss: 0.4544 - accuracy: 0.7704\n",
      "Epoch 26/200\n",
      "62/62 [==============================] - 0s 820us/step - loss: 0.4519 - accuracy: 0.7801\n",
      "Epoch 27/200\n",
      "62/62 [==============================] - 0s 1ms/step - loss: 0.4490 - accuracy: 0.7883\n",
      "Epoch 28/200\n",
      "62/62 [==============================] - 0s 1ms/step - loss: 0.4474 - accuracy: 0.7964\n",
      "Epoch 29/200\n",
      "62/62 [==============================] - 0s 947us/step - loss: 0.4499 - accuracy: 0.7671\n",
      "Epoch 30/200\n",
      "62/62 [==============================] - 0s 1ms/step - loss: 0.4488 - accuracy: 0.7801\n",
      "Epoch 31/200\n",
      "62/62 [==============================] - 0s 983us/step - loss: 0.4443 - accuracy: 0.7866\n",
      "Epoch 32/200\n",
      "62/62 [==============================] - 0s 962us/step - loss: 0.4450 - accuracy: 0.7964\n",
      "Epoch 33/200\n",
      "62/62 [==============================] - 0s 1ms/step - loss: 0.4443 - accuracy: 0.7752\n",
      "Epoch 34/200\n",
      "62/62 [==============================] - 0s 948us/step - loss: 0.4428 - accuracy: 0.7932\n",
      "Epoch 35/200\n",
      "62/62 [==============================] - 0s 987us/step - loss: 0.4395 - accuracy: 0.7915\n",
      "Epoch 36/200\n",
      "62/62 [==============================] - 0s 1ms/step - loss: 0.4389 - accuracy: 0.7866\n",
      "Epoch 37/200\n",
      "62/62 [==============================] - 0s 1ms/step - loss: 0.4364 - accuracy: 0.7866\n",
      "Epoch 38/200\n",
      "62/62 [==============================] - 0s 1ms/step - loss: 0.4363 - accuracy: 0.7915\n",
      "Epoch 39/200\n",
      "62/62 [==============================] - 0s 1ms/step - loss: 0.4363 - accuracy: 0.7866\n",
      "Epoch 40/200\n",
      "62/62 [==============================] - 0s 865us/step - loss: 0.4353 - accuracy: 0.7818\n",
      "Epoch 41/200\n",
      "62/62 [==============================] - 0s 976us/step - loss: 0.4355 - accuracy: 0.7850\n",
      "Epoch 42/200\n",
      "62/62 [==============================] - 0s 903us/step - loss: 0.4353 - accuracy: 0.7883\n",
      "Epoch 43/200\n",
      "62/62 [==============================] - 0s 938us/step - loss: 0.4325 - accuracy: 0.7980\n",
      "Epoch 44/200\n",
      "62/62 [==============================] - 0s 953us/step - loss: 0.4343 - accuracy: 0.7964\n",
      "Epoch 45/200\n",
      "62/62 [==============================] - 0s 1ms/step - loss: 0.4324 - accuracy: 0.7850\n",
      "Epoch 46/200\n",
      "62/62 [==============================] - 0s 1ms/step - loss: 0.4322 - accuracy: 0.7899\n",
      "Epoch 47/200\n",
      "62/62 [==============================] - 0s 954us/step - loss: 0.4306 - accuracy: 0.7899\n",
      "Epoch 48/200\n",
      "62/62 [==============================] - 0s 1ms/step - loss: 0.4346 - accuracy: 0.7834\n",
      "Epoch 49/200\n",
      "62/62 [==============================] - 0s 955us/step - loss: 0.4342 - accuracy: 0.7818\n",
      "Epoch 50/200\n",
      "62/62 [==============================] - 0s 920us/step - loss: 0.4318 - accuracy: 0.7915\n",
      "Epoch 51/200\n",
      "62/62 [==============================] - 0s 785us/step - loss: 0.4291 - accuracy: 0.7948\n",
      "Epoch 52/200\n",
      "62/62 [==============================] - 0s 821us/step - loss: 0.4298 - accuracy: 0.7932\n",
      "Epoch 53/200\n",
      "62/62 [==============================] - 0s 965us/step - loss: 0.4333 - accuracy: 0.7785\n",
      "Epoch 54/200\n",
      "62/62 [==============================] - 0s 782us/step - loss: 0.4375 - accuracy: 0.7704\n",
      "Epoch 55/200\n",
      "62/62 [==============================] - 0s 820us/step - loss: 0.4325 - accuracy: 0.7801\n",
      "Epoch 56/200\n",
      "62/62 [==============================] - 0s 804us/step - loss: 0.4302 - accuracy: 0.7964\n",
      "Epoch 57/200\n",
      "62/62 [==============================] - 0s 898us/step - loss: 0.4266 - accuracy: 0.7899\n",
      "Epoch 58/200\n",
      "62/62 [==============================] - 0s 775us/step - loss: 0.4284 - accuracy: 0.7883\n",
      "Epoch 59/200\n",
      "62/62 [==============================] - 0s 778us/step - loss: 0.4311 - accuracy: 0.7834\n",
      "Epoch 60/200\n",
      "62/62 [==============================] - 0s 782us/step - loss: 0.4333 - accuracy: 0.7932\n",
      "Epoch 61/200\n",
      "62/62 [==============================] - 0s 766us/step - loss: 0.4314 - accuracy: 0.7948\n",
      "Epoch 62/200\n",
      "62/62 [==============================] - 0s 771us/step - loss: 0.4272 - accuracy: 0.7964\n",
      "Epoch 63/200\n",
      "62/62 [==============================] - 0s 767us/step - loss: 0.4249 - accuracy: 0.7915\n",
      "Epoch 64/200\n",
      "62/62 [==============================] - 0s 778us/step - loss: 0.4263 - accuracy: 0.7948\n",
      "Epoch 65/200\n",
      "62/62 [==============================] - 0s 782us/step - loss: 0.4244 - accuracy: 0.7997\n",
      "Epoch 66/200\n",
      "62/62 [==============================] - 0s 770us/step - loss: 0.4263 - accuracy: 0.7948\n",
      "Epoch 67/200\n",
      "62/62 [==============================] - 0s 785us/step - loss: 0.4237 - accuracy: 0.7932\n",
      "Epoch 68/200\n",
      "62/62 [==============================] - 0s 804us/step - loss: 0.4228 - accuracy: 0.7883\n",
      "Epoch 69/200\n",
      "62/62 [==============================] - 0s 815us/step - loss: 0.4229 - accuracy: 0.7948\n",
      "Epoch 70/200\n",
      "62/62 [==============================] - 0s 851us/step - loss: 0.4275 - accuracy: 0.7883\n",
      "Epoch 71/200\n",
      "62/62 [==============================] - 0s 943us/step - loss: 0.4268 - accuracy: 0.7948\n",
      "Epoch 72/200\n",
      "62/62 [==============================] - 0s 916us/step - loss: 0.4272 - accuracy: 0.7964\n",
      "Epoch 73/200\n",
      "62/62 [==============================] - 0s 937us/step - loss: 0.4242 - accuracy: 0.8013\n",
      "Epoch 74/200\n",
      "62/62 [==============================] - 0s 835us/step - loss: 0.4228 - accuracy: 0.7850\n",
      "Epoch 75/200\n",
      "62/62 [==============================] - 0s 764us/step - loss: 0.4212 - accuracy: 0.7899\n",
      "Epoch 76/200\n",
      "62/62 [==============================] - 0s 873us/step - loss: 0.4223 - accuracy: 0.7948\n",
      "Epoch 77/200\n",
      "62/62 [==============================] - 0s 787us/step - loss: 0.4212 - accuracy: 0.7948\n",
      "Epoch 78/200\n",
      "62/62 [==============================] - 0s 793us/step - loss: 0.4233 - accuracy: 0.7883\n",
      "Epoch 79/200\n",
      "62/62 [==============================] - 0s 779us/step - loss: 0.4196 - accuracy: 0.7964\n",
      "Epoch 80/200\n",
      "62/62 [==============================] - 0s 791us/step - loss: 0.4203 - accuracy: 0.7932\n",
      "Epoch 81/200\n"
     ]
    },
    {
     "name": "stdout",
     "output_type": "stream",
     "text": [
      "62/62 [==============================] - 0s 837us/step - loss: 0.4199 - accuracy: 0.7964\n",
      "Epoch 82/200\n",
      "62/62 [==============================] - 0s 891us/step - loss: 0.4199 - accuracy: 0.7915\n",
      "Epoch 83/200\n",
      "62/62 [==============================] - 0s 820us/step - loss: 0.4195 - accuracy: 0.7915\n",
      "Epoch 84/200\n",
      "62/62 [==============================] - 0s 842us/step - loss: 0.4196 - accuracy: 0.7883\n",
      "Epoch 85/200\n",
      "62/62 [==============================] - 0s 799us/step - loss: 0.4181 - accuracy: 0.7866\n",
      "Epoch 86/200\n",
      "62/62 [==============================] - 0s 783us/step - loss: 0.4194 - accuracy: 0.7883\n",
      "Epoch 87/200\n",
      "62/62 [==============================] - 0s 764us/step - loss: 0.4246 - accuracy: 0.7980\n",
      "Epoch 88/200\n",
      "62/62 [==============================] - 0s 820us/step - loss: 0.4180 - accuracy: 0.7964\n",
      "Epoch 89/200\n",
      "62/62 [==============================] - 0s 921us/step - loss: 0.4175 - accuracy: 0.7932\n",
      "Epoch 90/200\n",
      "62/62 [==============================] - 0s 883us/step - loss: 0.4199 - accuracy: 0.8046\n",
      "Epoch 91/200\n",
      "62/62 [==============================] - 0s 979us/step - loss: 0.4202 - accuracy: 0.7980\n",
      "Epoch 92/200\n",
      "62/62 [==============================] - 0s 928us/step - loss: 0.4171 - accuracy: 0.7980\n",
      "Epoch 93/200\n",
      "62/62 [==============================] - 0s 872us/step - loss: 0.4192 - accuracy: 0.8062\n",
      "Epoch 94/200\n",
      "62/62 [==============================] - 0s 810us/step - loss: 0.4181 - accuracy: 0.7883\n",
      "Epoch 95/200\n",
      "62/62 [==============================] - 0s 1ms/step - loss: 0.4170 - accuracy: 0.8046\n",
      "Epoch 96/200\n",
      "62/62 [==============================] - 0s 897us/step - loss: 0.4151 - accuracy: 0.7948\n",
      "Epoch 97/200\n",
      "62/62 [==============================] - 0s 945us/step - loss: 0.4169 - accuracy: 0.7932\n",
      "Epoch 98/200\n",
      "62/62 [==============================] - 0s 983us/step - loss: 0.4148 - accuracy: 0.8078\n",
      "Epoch 99/200\n",
      "62/62 [==============================] - 0s 907us/step - loss: 0.4150 - accuracy: 0.7980\n",
      "Epoch 100/200\n",
      "62/62 [==============================] - 0s 913us/step - loss: 0.4156 - accuracy: 0.7980\n",
      "Epoch 101/200\n",
      "62/62 [==============================] - 0s 838us/step - loss: 0.4155 - accuracy: 0.7997\n",
      "Epoch 102/200\n",
      "62/62 [==============================] - 0s 802us/step - loss: 0.4151 - accuracy: 0.7948\n",
      "Epoch 103/200\n",
      "62/62 [==============================] - 0s 841us/step - loss: 0.4210 - accuracy: 0.8013\n",
      "Epoch 104/200\n",
      "62/62 [==============================] - 0s 837us/step - loss: 0.4140 - accuracy: 0.7980\n",
      "Epoch 105/200\n",
      "62/62 [==============================] - 0s 822us/step - loss: 0.4124 - accuracy: 0.7997\n",
      "Epoch 106/200\n",
      "62/62 [==============================] - 0s 866us/step - loss: 0.4123 - accuracy: 0.8013\n",
      "Epoch 107/200\n",
      "62/62 [==============================] - 0s 864us/step - loss: 0.4114 - accuracy: 0.8013\n",
      "Epoch 108/200\n",
      "62/62 [==============================] - 0s 957us/step - loss: 0.4174 - accuracy: 0.7948\n",
      "Epoch 109/200\n",
      "62/62 [==============================] - 0s 832us/step - loss: 0.4124 - accuracy: 0.8062\n",
      "Epoch 110/200\n",
      "62/62 [==============================] - 0s 936us/step - loss: 0.4125 - accuracy: 0.8029\n",
      "Epoch 111/200\n",
      "62/62 [==============================] - 0s 975us/step - loss: 0.4154 - accuracy: 0.8013\n",
      "Epoch 112/200\n",
      "62/62 [==============================] - 0s 992us/step - loss: 0.4171 - accuracy: 0.7997\n",
      "Epoch 113/200\n",
      "62/62 [==============================] - 0s 908us/step - loss: 0.4131 - accuracy: 0.8127\n",
      "Epoch 114/200\n",
      "62/62 [==============================] - 0s 859us/step - loss: 0.4142 - accuracy: 0.7980\n",
      "Epoch 115/200\n",
      "62/62 [==============================] - 0s 1ms/step - loss: 0.4125 - accuracy: 0.7997\n",
      "Epoch 116/200\n",
      "62/62 [==============================] - 0s 833us/step - loss: 0.4098 - accuracy: 0.7932\n",
      "Epoch 117/200\n",
      "62/62 [==============================] - 0s 838us/step - loss: 0.4037 - accuracy: 0.8094\n",
      "Epoch 118/200\n",
      "62/62 [==============================] - 0s 809us/step - loss: 0.4122 - accuracy: 0.8029\n",
      "Epoch 119/200\n",
      "62/62 [==============================] - 0s 886us/step - loss: 0.4115 - accuracy: 0.7964\n",
      "Epoch 120/200\n",
      "62/62 [==============================] - 0s 980us/step - loss: 0.4102 - accuracy: 0.7948\n",
      "Epoch 121/200\n",
      "62/62 [==============================] - 0s 1ms/step - loss: 0.4129 - accuracy: 0.8094\n",
      "Epoch 122/200\n",
      "62/62 [==============================] - 0s 942us/step - loss: 0.4102 - accuracy: 0.8046\n",
      "Epoch 123/200\n",
      "62/62 [==============================] - 0s 774us/step - loss: 0.4102 - accuracy: 0.8046\n",
      "Epoch 124/200\n",
      "62/62 [==============================] - 0s 795us/step - loss: 0.4070 - accuracy: 0.7997\n",
      "Epoch 125/200\n",
      "62/62 [==============================] - 0s 924us/step - loss: 0.4074 - accuracy: 0.8094\n",
      "Epoch 126/200\n",
      "62/62 [==============================] - 0s 978us/step - loss: 0.4113 - accuracy: 0.8111\n",
      "Epoch 127/200\n",
      "62/62 [==============================] - 0s 1ms/step - loss: 0.4058 - accuracy: 0.7899\n",
      "Epoch 128/200\n",
      "62/62 [==============================] - 0s 1ms/step - loss: 0.4088 - accuracy: 0.8078\n",
      "Epoch 129/200\n",
      "62/62 [==============================] - 0s 1ms/step - loss: 0.4089 - accuracy: 0.8111\n",
      "Epoch 130/200\n",
      "62/62 [==============================] - 0s 1ms/step - loss: 0.4078 - accuracy: 0.8013\n",
      "Epoch 131/200\n",
      "62/62 [==============================] - 0s 1ms/step - loss: 0.4089 - accuracy: 0.8029\n",
      "Epoch 132/200\n",
      "62/62 [==============================] - 0s 941us/step - loss: 0.4122 - accuracy: 0.8046\n",
      "Epoch 133/200\n",
      "62/62 [==============================] - 0s 942us/step - loss: 0.4100 - accuracy: 0.8029\n",
      "Epoch 134/200\n",
      "62/62 [==============================] - 0s 884us/step - loss: 0.4054 - accuracy: 0.8078\n",
      "Epoch 135/200\n",
      "62/62 [==============================] - 0s 810us/step - loss: 0.4069 - accuracy: 0.8029\n",
      "Epoch 136/200\n",
      "62/62 [==============================] - 0s 768us/step - loss: 0.4070 - accuracy: 0.8127\n",
      "Epoch 137/200\n",
      "62/62 [==============================] - 0s 756us/step - loss: 0.4063 - accuracy: 0.8013\n",
      "Epoch 138/200\n",
      "62/62 [==============================] - 0s 752us/step - loss: 0.4058 - accuracy: 0.8094\n",
      "Epoch 139/200\n",
      "62/62 [==============================] - 0s 810us/step - loss: 0.4015 - accuracy: 0.8029\n",
      "Epoch 140/200\n",
      "62/62 [==============================] - 0s 950us/step - loss: 0.4181 - accuracy: 0.8029\n",
      "Epoch 141/200\n",
      "62/62 [==============================] - 0s 862us/step - loss: 0.4066 - accuracy: 0.7980\n",
      "Epoch 142/200\n",
      "62/62 [==============================] - 0s 833us/step - loss: 0.4034 - accuracy: 0.8143\n",
      "Epoch 143/200\n",
      "62/62 [==============================] - 0s 980us/step - loss: 0.4036 - accuracy: 0.8094\n",
      "Epoch 144/200\n",
      "62/62 [==============================] - 0s 922us/step - loss: 0.4049 - accuracy: 0.8192\n",
      "Epoch 145/200\n",
      "62/62 [==============================] - 0s 929us/step - loss: 0.4039 - accuracy: 0.8046\n",
      "Epoch 146/200\n",
      "62/62 [==============================] - 0s 1ms/step - loss: 0.4054 - accuracy: 0.8029\n",
      "Epoch 147/200\n",
      "62/62 [==============================] - 0s 840us/step - loss: 0.4022 - accuracy: 0.8046\n",
      "Epoch 148/200\n",
      "62/62 [==============================] - 0s 799us/step - loss: 0.4079 - accuracy: 0.8046\n",
      "Epoch 149/200\n",
      "62/62 [==============================] - 0s 860us/step - loss: 0.4023 - accuracy: 0.8143\n",
      "Epoch 150/200\n",
      "62/62 [==============================] - 0s 928us/step - loss: 0.4015 - accuracy: 0.8111\n",
      "Epoch 151/200\n",
      "62/62 [==============================] - 0s 959us/step - loss: 0.4025 - accuracy: 0.8029\n",
      "Epoch 152/200\n",
      "62/62 [==============================] - 0s 971us/step - loss: 0.4019 - accuracy: 0.8176\n",
      "Epoch 153/200\n",
      "62/62 [==============================] - 0s 1ms/step - loss: 0.4016 - accuracy: 0.8029\n",
      "Epoch 154/200\n",
      "62/62 [==============================] - 0s 979us/step - loss: 0.4080 - accuracy: 0.8013\n",
      "Epoch 155/200\n",
      "62/62 [==============================] - 0s 913us/step - loss: 0.4009 - accuracy: 0.8127\n",
      "Epoch 156/200\n",
      "62/62 [==============================] - 0s 889us/step - loss: 0.4001 - accuracy: 0.8111\n",
      "Epoch 157/200\n",
      "62/62 [==============================] - 0s 834us/step - loss: 0.4045 - accuracy: 0.8046\n",
      "Epoch 158/200\n",
      "62/62 [==============================] - 0s 914us/step - loss: 0.4075 - accuracy: 0.7997\n",
      "Epoch 159/200\n",
      "62/62 [==============================] - 0s 958us/step - loss: 0.3985 - accuracy: 0.8094\n",
      "Epoch 160/200\n",
      "62/62 [==============================] - 0s 957us/step - loss: 0.4054 - accuracy: 0.8046\n",
      "Epoch 161/200\n"
     ]
    },
    {
     "name": "stdout",
     "output_type": "stream",
     "text": [
      "62/62 [==============================] - 0s 954us/step - loss: 0.4037 - accuracy: 0.8078\n",
      "Epoch 162/200\n",
      "62/62 [==============================] - 0s 988us/step - loss: 0.4000 - accuracy: 0.8160\n",
      "Epoch 163/200\n",
      "62/62 [==============================] - 0s 1ms/step - loss: 0.4011 - accuracy: 0.7980\n",
      "Epoch 164/200\n",
      "62/62 [==============================] - 0s 1ms/step - loss: 0.4050 - accuracy: 0.8062\n",
      "Epoch 165/200\n",
      "62/62 [==============================] - 0s 966us/step - loss: 0.3982 - accuracy: 0.8094\n",
      "Epoch 166/200\n",
      "62/62 [==============================] - 0s 801us/step - loss: 0.4008 - accuracy: 0.8143\n",
      "Epoch 167/200\n",
      "62/62 [==============================] - 0s 861us/step - loss: 0.3997 - accuracy: 0.8176\n",
      "Epoch 168/200\n",
      "62/62 [==============================] - 0s 897us/step - loss: 0.3999 - accuracy: 0.8094\n",
      "Epoch 169/200\n",
      "62/62 [==============================] - 0s 835us/step - loss: 0.3977 - accuracy: 0.8111\n",
      "Epoch 170/200\n",
      "62/62 [==============================] - 0s 890us/step - loss: 0.3964 - accuracy: 0.8143\n",
      "Epoch 171/200\n",
      "62/62 [==============================] - 0s 955us/step - loss: 0.3984 - accuracy: 0.8176\n",
      "Epoch 172/200\n",
      "62/62 [==============================] - 0s 833us/step - loss: 0.3969 - accuracy: 0.8176\n",
      "Epoch 173/200\n",
      "62/62 [==============================] - 0s 887us/step - loss: 0.4029 - accuracy: 0.7997\n",
      "Epoch 174/200\n",
      "62/62 [==============================] - 0s 881us/step - loss: 0.4049 - accuracy: 0.8062\n",
      "Epoch 175/200\n",
      "62/62 [==============================] - 0s 857us/step - loss: 0.3994 - accuracy: 0.8111\n",
      "Epoch 176/200\n",
      "62/62 [==============================] - 0s 962us/step - loss: 0.4011 - accuracy: 0.8078\n",
      "Epoch 177/200\n",
      "62/62 [==============================] - 0s 812us/step - loss: 0.3984 - accuracy: 0.8176\n",
      "Epoch 178/200\n",
      "62/62 [==============================] - 0s 962us/step - loss: 0.3967 - accuracy: 0.8094\n",
      "Epoch 179/200\n",
      "62/62 [==============================] - 0s 998us/step - loss: 0.4033 - accuracy: 0.7964\n",
      "Epoch 180/200\n",
      "62/62 [==============================] - 0s 1ms/step - loss: 0.3952 - accuracy: 0.8094\n",
      "Epoch 181/200\n",
      "62/62 [==============================] - 0s 950us/step - loss: 0.4033 - accuracy: 0.8111\n",
      "Epoch 182/200\n",
      "62/62 [==============================] - 0s 919us/step - loss: 0.3999 - accuracy: 0.8127\n",
      "Epoch 183/200\n",
      "62/62 [==============================] - 0s 976us/step - loss: 0.4021 - accuracy: 0.8046\n",
      "Epoch 184/200\n",
      "62/62 [==============================] - 0s 1ms/step - loss: 0.3975 - accuracy: 0.8257\n",
      "Epoch 185/200\n",
      "62/62 [==============================] - 0s 944us/step - loss: 0.3975 - accuracy: 0.8111\n",
      "Epoch 186/200\n",
      "62/62 [==============================] - 0s 981us/step - loss: 0.3947 - accuracy: 0.8143\n",
      "Epoch 187/200\n",
      "62/62 [==============================] - 0s 858us/step - loss: 0.3977 - accuracy: 0.7997\n",
      "Epoch 188/200\n",
      "62/62 [==============================] - 0s 898us/step - loss: 0.3938 - accuracy: 0.8176\n",
      "Epoch 189/200\n",
      "62/62 [==============================] - 0s 946us/step - loss: 0.3921 - accuracy: 0.8078\n",
      "Epoch 190/200\n",
      "62/62 [==============================] - 0s 815us/step - loss: 0.3968 - accuracy: 0.8225\n",
      "Epoch 191/200\n",
      "62/62 [==============================] - 0s 869us/step - loss: 0.3968 - accuracy: 0.8160\n",
      "Epoch 192/200\n",
      "62/62 [==============================] - 0s 843us/step - loss: 0.3972 - accuracy: 0.8111\n",
      "Epoch 193/200\n",
      "62/62 [==============================] - 0s 799us/step - loss: 0.3975 - accuracy: 0.8143\n",
      "Epoch 194/200\n",
      "62/62 [==============================] - 0s 872us/step - loss: 0.3945 - accuracy: 0.8111\n",
      "Epoch 195/200\n",
      "62/62 [==============================] - 0s 1ms/step - loss: 0.3924 - accuracy: 0.8094\n",
      "Epoch 196/200\n",
      "62/62 [==============================] - 0s 1ms/step - loss: 0.4001 - accuracy: 0.8111\n",
      "Epoch 197/200\n",
      "62/62 [==============================] - 0s 851us/step - loss: 0.3919 - accuracy: 0.8192\n",
      "Epoch 198/200\n",
      "62/62 [==============================] - 0s 821us/step - loss: 0.3956 - accuracy: 0.8127\n",
      "Epoch 199/200\n",
      "62/62 [==============================] - 0s 955us/step - loss: 0.3952 - accuracy: 0.8127\n",
      "Epoch 200/200\n",
      "62/62 [==============================] - 0s 897us/step - loss: 0.3934 - accuracy: 0.8111\n"
     ]
    },
    {
     "data": {
      "text/plain": [
       "<keras.callbacks.History at 0x7f627011feb0>"
      ]
     },
     "execution_count": 118,
     "metadata": {},
     "output_type": "execute_result"
    }
   ],
   "source": [
    "model.fit(x_train, y_train,batch_size=10,epochs=200)"
   ]
  },
  {
   "cell_type": "code",
   "execution_count": 120,
   "metadata": {
    "execution": {
     "iopub.execute_input": "2022-10-15T05:12:49.698092Z",
     "iopub.status.busy": "2022-10-15T05:12:49.697683Z",
     "iopub.status.idle": "2022-10-15T05:12:49.992586Z",
     "shell.execute_reply": "2022-10-15T05:12:49.991765Z",
     "shell.execute_reply.started": "2022-10-15T05:12:49.698059Z"
    },
    "id": "RKGoMQzqBg58",
    "outputId": "b510ac9f-82dc-4bd9-a99c-1060cade6a44"
   },
   "outputs": [
    {
     "data": {
      "text/plain": [
       "<AxesSubplot:>"
      ]
     },
     "execution_count": 120,
     "metadata": {},
     "output_type": "execute_result"
    },
    {
     "data": {
      "image/png": "[encoded data removed]",
      "text/plain": [
       "<Figure size 432x288 with 1 Axes>"
      ]
     },
     "metadata": {
      "needs_background": "light"
     },
     "output_type": "display_data"
    }
   ],
   "source": [
    "model_loss = pd.DataFrame(model.history.history)\n",
    "model_loss.plot()"
   ]
  },
  {
   "cell_type": "code",
   "execution_count": 124,
   "metadata": {
    "execution": {
     "iopub.execute_input": "2022-10-15T05:12:49.99475Z",
     "iopub.status.busy": "2022-10-15T05:12:49.994055Z",
     "iopub.status.idle": "2022-10-15T05:12:50.000954Z",
     "shell.execute_reply": "2022-10-15T05:12:49.999683Z",
     "shell.execute_reply.started": "2022-10-15T05:12:49.994705Z"
    },
    "id": "OYh98SFPlsCI"
   },
   "outputs": [],
   "source": [
    "from sklearn.metrics import confusion_matrix,accuracy_score"
   ]
  },
  {
   "cell_type": "code",
   "execution_count": 125,
   "metadata": {
    "execution": {
     "iopub.execute_input": "2022-10-15T05:12:50.004405Z",
     "iopub.status.busy": "2022-10-15T05:12:50.00268Z",
     "iopub.status.idle": "2022-10-15T05:12:50.213002Z",
     "shell.execute_reply": "2022-10-15T05:12:50.211958Z",
     "shell.execute_reply.started": "2022-10-15T05:12:50.004354Z"
    },
    "id": "oWEu-xZ_1il-",
    "outputId": "b9efe151-b422-4c11-9c80-de4fa7f8ed96"
   },
   "outputs": [
    {
     "name": "stdout",
     "output_type": "stream",
     "text": [
      "5/5 [==============================] - 0s 1ms/step\n"
     ]
    }
   ],
   "source": [
    "prediction = model.predict(x_test)\n",
    "prediction  = [1 if y>=0.5 else 0 for y in prediction] \n"
   ]
  },
  {
   "cell_type": "code",
   "execution_count": 126,
   "metadata": {
    "execution": {
     "iopub.execute_input": "2022-10-15T05:12:50.217294Z",
     "iopub.status.busy": "2022-10-15T05:12:50.216001Z",
     "iopub.status.idle": "2022-10-15T05:12:50.230805Z",
     "shell.execute_reply": "2022-10-15T05:12:50.228616Z",
     "shell.execute_reply.started": "2022-10-15T05:12:50.217245Z"
    },
    "id": "f8FyVCdy1iss",
    "outputId": "0fdc2eaf-da13-4ff4-9efa-9300eb7c7091"
   },
   "outputs": [
    {
     "name": "stdout",
     "output_type": "stream",
     "text": [
      "              precision    recall  f1-score   support\n",
      "\n",
      "           0       0.79      0.90      0.84        99\n",
      "           1       0.76      0.56      0.65        55\n",
      "\n",
      "    accuracy                           0.78       154\n",
      "   macro avg       0.77      0.73      0.74       154\n",
      "weighted avg       0.78      0.78      0.77       154\n",
      "\n"
     ]
    }
   ],
   "source": [
    "from sklearn.metrics import classification_report,confusion_matrix\n",
    "print(classification_report(y_test,prediction))"
   ]
  },
  {
   "cell_type": "code",
   "execution_count": 127,
   "metadata": {
    "execution": {
     "iopub.execute_input": "2022-10-15T05:12:50.233618Z",
     "iopub.status.busy": "2022-10-15T05:12:50.232842Z",
     "iopub.status.idle": "2022-10-15T05:12:50.239388Z",
     "shell.execute_reply": "2022-10-15T05:12:50.238193Z",
     "shell.execute_reply.started": "2022-10-15T05:12:50.233568Z"
    },
    "id": "_MYnkg9Z1iz_"
   },
   "outputs": [],
   "source": [
    "from sklearn.metrics import mean_absolute_error,mean_squared_error"
   ]
  },
  {
   "cell_type": "code",
   "execution_count": 128,
   "metadata": {
    "execution": {
     "iopub.execute_input": "2022-10-15T05:12:50.242098Z",
     "iopub.status.busy": "2022-10-15T05:12:50.2416Z",
     "iopub.status.idle": "2022-10-15T05:12:50.257214Z",
     "shell.execute_reply": "2022-10-15T05:12:50.256128Z",
     "shell.execute_reply.started": "2022-10-15T05:12:50.242048Z"
    },
    "id": "x_OTUSHi1iwW",
    "outputId": "64c39338-402d-4ff3-d1ad-053c3f2dd346"
   },
   "outputs": [
    {
     "data": {
      "text/plain": [
       "0.22077922077922077"
      ]
     },
     "execution_count": 128,
     "metadata": {},
     "output_type": "execute_result"
    }
   ],
   "source": [
    "mean_abs_error=mean_absolute_error(prediction,y_test)\n",
    "mean_abs_error"
   ]
  },
  {
   "cell_type": "code",
   "execution_count": 129,
   "metadata": {
    "execution": {
     "iopub.execute_input": "2022-10-15T05:12:50.25962Z",
     "iopub.status.busy": "2022-10-15T05:12:50.258928Z",
     "iopub.status.idle": "2022-10-15T05:12:50.267673Z",
     "shell.execute_reply": "2022-10-15T05:12:50.266661Z",
     "shell.execute_reply.started": "2022-10-15T05:12:50.259579Z"
    },
    "id": "bVHtloF41i3w",
    "outputId": "07397220-fc83-4a50-b995-0ff8f09ccb22"
   },
   "outputs": [
    {
     "data": {
      "text/plain": [
       "0.4698714938993648"
      ]
     },
     "execution_count": 129,
     "metadata": {},
     "output_type": "execute_result"
    }
   ],
   "source": [
    "np.sqrt(mean_squared_error(y_test,prediction))"
   ]
  },
  {
   "cell_type": "code",
   "execution_count": 130,
   "metadata": {
    "execution": {
     "iopub.execute_input": "2022-10-15T05:12:50.270528Z",
     "iopub.status.busy": "2022-10-15T05:12:50.269257Z",
     "iopub.status.idle": "2022-10-15T05:12:50.581092Z",
     "shell.execute_reply": "2022-10-15T05:12:50.579668Z",
     "shell.execute_reply.started": "2022-10-15T05:12:50.270485Z"
    },
    "id": "O25mCC318xbi",
    "outputId": "fcf6d345-f103-4151-9e5a-6a46a9669c64"
   },
   "outputs": [
    {
     "name": "stdout",
     "output_type": "stream",
     "text": [
      "5/5 [==============================] - 0s 1ms/step - loss: 0.5311 - accuracy: 0.7792\n"
     ]
    },
    {
     "data": {
      "text/plain": [
       "[0.531121551990509, 0.7792207598686218]"
      ]
     },
     "execution_count": 130,
     "metadata": {},
     "output_type": "execute_result"
    }
   ],
   "source": [
    "model.evaluate(x_test,y_test)"
   ]
  },
  {
   "cell_type": "code",
   "execution_count": null,
   "metadata": {},
   "outputs": [],
   "source": []
  }
 ],
 "metadata": {
  "kernelspec": {
   "display_name": "Python 3 (ipykernel)",
   "language": "python",
   "name": "python3"
  },
  "language_info": {
   "codemirror_mode": {
    "name": "ipython",
    "version": 3
   },
   "file_extension": ".py",
   "mimetype": "text/x-python",
   "name": "python",
   "nbconvert_exporter": "python",
   "pygments_lexer": "ipython3",
   "version": "3.8.10"
  }
 },
 "nbformat": 4,
 "nbformat_minor": 4
}
